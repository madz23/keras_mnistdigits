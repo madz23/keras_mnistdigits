{
  "cells": [
    {
      "cell_type": "markdown",
      "metadata": {
        "id": "view-in-github",
        "colab_type": "text"
      },
      "source": [
        "<a href=\"https://colab.research.google.com/github/madz23/keras_mnistdigits/blob/main/Homework_1.ipynb\" target=\"_parent\"><img src=\"https://colab.research.google.com/assets/colab-badge.svg\" alt=\"Open In Colab\"/></a>"
      ]
    },
    {
      "cell_type": "markdown",
      "metadata": {
        "id": "z5WdryXVS4ty"
      },
      "source": [
        "# Applied Neural Networks Homework 1\n",
        "\n",
        "Madison May\n",
        "\n",
        "CS 4499 - Leslie Kerby\n",
        "\n"
      ]
    },
    {
      "cell_type": "markdown",
      "metadata": {
        "id": "DHlAQJ1AS-VJ"
      },
      "source": [
        "# **MNIST Digits and Keras**</br>\n",
        "Import in the MNIST digits dataset (70,000 images, each 28x28 pixels). Preprocess the data as necessary. The training set should have 60k images and the test set 10k. Also create a validation set within the training set -- using 10% of the training data. \n",
        "\n",
        "**Part 1** </br>\n",
        "Using the Keras Sequential API, create a neural network with two hidden layers of 500 neurons each. Train it for 30 epochs. Graph the accuracy and loss for the training and validation sets. Does your model become overfit? If so, at about what epoch? Re-train your neural network for that number of epochs. \n",
        "\n",
        "Now test your neural network on your testing data. What accuracy do you achieve? Is it about the same as the accuracy on the validation data?\n",
        "\n",
        "Plot several of the misclassified images from your model. \n",
        "\n",
        "**Part 2** </br>\n",
        "Try to improve your model by changing your architecture (try different numbers of neurons per layer, and/or more layers) and report again on accuracies and plot several misclassified images.\n",
        "\n",
        "**Part 3** </br>\n",
        "Which model did best? Discuss."
      ]
    },
    {
      "cell_type": "code",
      "execution_count": null,
      "metadata": {
        "id": "aMMDsGreT745"
      },
      "outputs": [],
      "source": [
        "import tensorflow as tf\n",
        "from tensorflow import keras\n",
        "import matplotlib.pyplot as plt\n",
        "from sklearn.model_selection import train_test_split\n",
        "import pandas as pd\n",
        "from collections import Counter\n",
        "from sklearn.metrics import confusion_matrix\n",
        "import seaborn as sns\n",
        "\n",
        "\n",
        "import numpy as np\n",
        "\n",
        "np.random.seed(48)\n",
        "tf.random.set_seed(48)\n",
        "\n",
        "\n",
        "# Pull the data set\n",
        "mnist_digit_dataset = keras.datasets.mnist\n",
        "(x_train_full, y_train_full), (x_test, y_test) = mnist_digit_dataset.load_data()\n"
      ]
    },
    {
      "cell_type": "code",
      "source": [
        "type(x_train_full)"
      ],
      "metadata": {
        "colab": {
          "base_uri": "https://localhost:8080/"
        },
        "id": "NaK8wRF58pla",
        "outputId": "2c17b67e-7c19-4b37-ebe2-eabbe5a883a6"
      },
      "execution_count": null,
      "outputs": [
        {
          "output_type": "execute_result",
          "data": {
            "text/plain": [
              "numpy.ndarray"
            ]
          },
          "metadata": {},
          "execution_count": 65
        }
      ]
    },
    {
      "cell_type": "code",
      "source": [
        "x_train_full.shape"
      ],
      "metadata": {
        "colab": {
          "base_uri": "https://localhost:8080/"
        },
        "id": "FCrRjuzb8uA7",
        "outputId": "d6797f4f-87fc-4be0-ac9f-84cc1ab634ad"
      },
      "execution_count": null,
      "outputs": [
        {
          "output_type": "execute_result",
          "data": {
            "text/plain": [
              "(60000, 28, 28)"
            ]
          },
          "metadata": {},
          "execution_count": 66
        }
      ]
    },
    {
      "cell_type": "code",
      "source": [
        "y_train_full.shape"
      ],
      "metadata": {
        "colab": {
          "base_uri": "https://localhost:8080/"
        },
        "id": "uOApoZuY8poX",
        "outputId": "58109ab8-80b1-45b4-8122-57e719df8585"
      },
      "execution_count": null,
      "outputs": [
        {
          "output_type": "execute_result",
          "data": {
            "text/plain": [
              "(60000,)"
            ]
          },
          "metadata": {},
          "execution_count": 67
        }
      ]
    },
    {
      "cell_type": "code",
      "source": [
        "x_test.shape"
      ],
      "metadata": {
        "colab": {
          "base_uri": "https://localhost:8080/"
        },
        "id": "ae9ukXFA8pzD",
        "outputId": "4edeae80-ac12-4b1b-b424-57f47bb5073c"
      },
      "execution_count": null,
      "outputs": [
        {
          "output_type": "execute_result",
          "data": {
            "text/plain": [
              "(10000, 28, 28)"
            ]
          },
          "metadata": {},
          "execution_count": 68
        }
      ]
    },
    {
      "cell_type": "code",
      "source": [
        "plt.imshow(x_train_full[5], cmap = 'binary')"
      ],
      "metadata": {
        "colab": {
          "base_uri": "https://localhost:8080/",
          "height": 282
        },
        "id": "lmIXZUCR8p2a",
        "outputId": "a471125d-2bae-4e13-a2d7-fbf827bb71b0"
      },
      "execution_count": null,
      "outputs": [
        {
          "output_type": "execute_result",
          "data": {
            "text/plain": [
              "<matplotlib.image.AxesImage at 0x7f6c16be5610>"
            ]
          },
          "metadata": {},
          "execution_count": 69
        },
        {
          "output_type": "display_data",
          "data": {
            "image/png": "[encoded data removed]",
            "text/plain": [
              "<Figure size 432x288 with 1 Axes>"
            ]
          },
          "metadata": {
            "needs_background": "light"
          }
        }
      ]
    },
    {
      "cell_type": "code",
      "source": [
        "classes = [\"0\", \"1\", \"2\", \"3\", \"4\", \"5\", \"6\", \"7\", \"8\", \"9\"]\n",
        "Counter(y_train_full)"
      ],
      "metadata": {
        "id": "iacES8yr1GGi",
        "colab": {
          "base_uri": "https://localhost:8080/"
        },
        "outputId": "a8ae9f6d-6762-4417-d8af-ffae1b4e42be"
      },
      "execution_count": null,
      "outputs": [
        {
          "output_type": "execute_result",
          "data": {
            "text/plain": [
              "Counter({0: 5923,\n",
              "         1: 6742,\n",
              "         2: 5958,\n",
              "         3: 6131,\n",
              "         4: 5842,\n",
              "         5: 5421,\n",
              "         6: 5918,\n",
              "         7: 6265,\n",
              "         8: 5851,\n",
              "         9: 5949})"
            ]
          },
          "metadata": {},
          "execution_count": 70
        }
      ]
    },
    {
      "cell_type": "markdown",
      "source": [
        "# Part 1"
      ],
      "metadata": {
        "id": "cUbHKnyo_b8y"
      }
    },
    {
      "cell_type": "code",
      "execution_count": null,
      "metadata": {
        "id": "5_-S9vKgXQZo"
      },
      "outputs": [],
      "source": [
        "\n",
        "# 1: Preprocess the Data\n",
        "\n",
        "# Scale to [0, 1]\n",
        "x_train_full = x_train_full / 255\n",
        "x_test = x_test / 255\n"
      ]
    },
    {
      "cell_type": "code",
      "execution_count": null,
      "metadata": {
        "colab": {
          "base_uri": "https://localhost:8080/"
        },
        "outputId": "04eff9a5-437d-4dc6-bbf3-1ba14b916f9b",
        "id": "mE-UfNPX-GJx"
      },
      "outputs": [
        {
          "output_type": "execute_result",
          "data": {
            "text/plain": [
              "(60000, 28, 28)"
            ]
          },
          "metadata": {},
          "execution_count": 72
        }
      ],
      "source": [
        "x_train_full.shape"
      ]
    },
    {
      "cell_type": "code",
      "execution_count": null,
      "metadata": {
        "id": "0AUNQe9fXQcq"
      },
      "outputs": [],
      "source": [
        "# Reshape the data to 1 dimension\n",
        "x_train_full = x_train_full.reshape(-1, 784)\n",
        "x_test = x_test.reshape(-1, 784)\n",
        "\n",
        "# Create validation dataset\n",
        "x_train_train, x_train_validate, y_train_train, y_train_validate = train_test_split(x_train_full, y_train_full, test_size = 5000)"
      ]
    },
    {
      "cell_type": "code",
      "source": [
        "x_train_full.shape"
      ],
      "metadata": {
        "colab": {
          "base_uri": "https://localhost:8080/"
        },
        "id": "NWZQdYRm-F1n",
        "outputId": "c6c8476b-de1e-4574-c4b3-894587ff9426"
      },
      "execution_count": null,
      "outputs": [
        {
          "output_type": "execute_result",
          "data": {
            "text/plain": [
              "(60000, 784)"
            ]
          },
          "metadata": {},
          "execution_count": 74
        }
      ]
    },
    {
      "cell_type": "code",
      "source": [
        "x_train_train.shape"
      ],
      "metadata": {
        "colab": {
          "base_uri": "https://localhost:8080/"
        },
        "id": "pTK081b_-XnN",
        "outputId": "d94029a0-ea17-4466-def4-b8b672749d00"
      },
      "execution_count": null,
      "outputs": [
        {
          "output_type": "execute_result",
          "data": {
            "text/plain": [
              "(55000, 784)"
            ]
          },
          "metadata": {},
          "execution_count": 75
        }
      ]
    },
    {
      "cell_type": "code",
      "source": [
        "# 2: Create a Model\n",
        "\n",
        "data_model = keras.models.Sequential()\n",
        "data_model.add(keras.layers.Dense(500, activation = \"relu\", input_shape = (784,), name = \"1-hidden-layer\"))\n",
        "data_model.add(keras.layers.Dense(500, activation = \"relu\", input_shape = (784,), name = \"2-hidden-layer\"))\n",
        "data_model.add(keras.layers.Dense(10, activation=\"softmax\", name=\"Output_Layer\"))\n"
      ],
      "metadata": {
        "id": "WMfNnhzblN3n"
      },
      "execution_count": null,
      "outputs": []
    },
    {
      "cell_type": "code",
      "source": [
        "data_model.summary()"
      ],
      "metadata": {
        "colab": {
          "base_uri": "https://localhost:8080/"
        },
        "id": "ACZa11cqlN6b",
        "outputId": "a4606e37-866f-4da4-a279-0210111ff82f"
      },
      "execution_count": null,
      "outputs": [
        {
          "output_type": "stream",
          "name": "stdout",
          "text": [
            "Model: \"sequential_2\"\n",
            "_________________________________________________________________\n",
            " Layer (type)                Output Shape              Param #   \n",
            "=================================================================\n",
            " 1-hidden-layer (Dense)      (None, 500)               392500    \n",
            "                                                                 \n",
            " 2-hidden-layer (Dense)      (None, 500)               250500    \n",
            "                                                                 \n",
            " Output_Layer (Dense)        (None, 10)                5010      \n",
            "                                                                 \n",
            "=================================================================\n",
            "Total params: 648,010\n",
            "Trainable params: 648,010\n",
            "Non-trainable params: 0\n",
            "_________________________________________________________________\n"
          ]
        }
      ]
    },
    {
      "cell_type": "code",
      "source": [
        "# This cell is not necessary for the assignment, just helpful for me\n",
        "keras.utils.plot_model(data_model, show_shapes = True)"
      ],
      "metadata": {
        "colab": {
          "base_uri": "https://localhost:8080/",
          "height": 422
        },
        "id": "w3Jspqr4lN9H",
        "outputId": "076e8a94-5260-48a9-f382-c98504ef3e79"
      },
      "execution_count": null,
      "outputs": [
        {
          "output_type": "execute_result",
          "data": {
            "image/png": "[encoded data removed]",
            "text/plain": [
              "<IPython.core.display.Image object>"
            ]
          },
          "metadata": {},
          "execution_count": 78
        }
      ]
    },
    {
      "cell_type": "code",
      "source": [
        "# 3: Compile the model\n",
        "# We will do this using the cross entropy loss function. \n",
        "data_model.compile(loss = \"sparse_categorical_crossentropy\", optimizer = \"sgd\", metrics = [\"accuracy\"])"
      ],
      "metadata": {
        "id": "l_FQQqfRnPFG"
      },
      "execution_count": null,
      "outputs": []
    },
    {
      "cell_type": "code",
      "source": [
        "y_train_train[0]"
      ],
      "metadata": {
        "colab": {
          "base_uri": "https://localhost:8080/"
        },
        "id": "pTau2Npr-u_w",
        "outputId": "cfdff99f-20cc-4daf-8cab-3e043c565f4d"
      },
      "execution_count": null,
      "outputs": [
        {
          "output_type": "execute_result",
          "data": {
            "text/plain": [
              "3"
            ]
          },
          "metadata": {},
          "execution_count": 80
        }
      ]
    },
    {
      "cell_type": "code",
      "source": [
        "# 4: Fit on data (train)\n",
        "# This is the big stuff\n",
        "history = data_model.fit(x_train_train, y_train_train, epochs = 30, batch_size = 32, validation_data = (x_train_validate, y_train_validate))"
      ],
      "metadata": {
        "colab": {
          "base_uri": "https://localhost:8080/"
        },
        "id": "kg_Fqi5Tok1g",
        "outputId": "2145aa33-3f7f-4e02-b715-aa34f967112f"
      },
      "execution_count": null,
      "outputs": [
        {
          "output_type": "stream",
          "name": "stdout",
          "text": [
            "Epoch 1/30\n",
            "1719/1719 [==============================] - 12s 7ms/step - loss: 0.5773 - accuracy: 0.8581 - val_loss: 0.3224 - val_accuracy: 0.9048\n",
            "Epoch 2/30\n",
            "1719/1719 [==============================] - 12s 7ms/step - loss: 0.2807 - accuracy: 0.9191 - val_loss: 0.2502 - val_accuracy: 0.9290\n",
            "Epoch 3/30\n",
            "1719/1719 [==============================] - 12s 7ms/step - loss: 0.2296 - accuracy: 0.9342 - val_loss: 0.2122 - val_accuracy: 0.9394\n",
            "Epoch 4/30\n",
            "1719/1719 [==============================] - 12s 7ms/step - loss: 0.1955 - accuracy: 0.9445 - val_loss: 0.1848 - val_accuracy: 0.9456\n",
            "Epoch 5/30\n",
            "1719/1719 [==============================] - 12s 7ms/step - loss: 0.1702 - accuracy: 0.9513 - val_loss: 0.1624 - val_accuracy: 0.9512\n",
            "Epoch 6/30\n",
            "1719/1719 [==============================] - 12s 7ms/step - loss: 0.1507 - accuracy: 0.9567 - val_loss: 0.1467 - val_accuracy: 0.9560\n",
            "Epoch 7/30\n",
            "1719/1719 [==============================] - 12s 7ms/step - loss: 0.1351 - accuracy: 0.9611 - val_loss: 0.1319 - val_accuracy: 0.9630\n",
            "Epoch 8/30\n",
            "1719/1719 [==============================] - 12s 7ms/step - loss: 0.1221 - accuracy: 0.9656 - val_loss: 0.1249 - val_accuracy: 0.9642\n",
            "Epoch 9/30\n",
            "1719/1719 [==============================] - 12s 7ms/step - loss: 0.1109 - accuracy: 0.9685 - val_loss: 0.1159 - val_accuracy: 0.9670\n",
            "Epoch 10/30\n",
            "1719/1719 [==============================] - 12s 7ms/step - loss: 0.1012 - accuracy: 0.9717 - val_loss: 0.1061 - val_accuracy: 0.9694\n",
            "Epoch 11/30\n",
            "1719/1719 [==============================] - 12s 7ms/step - loss: 0.0925 - accuracy: 0.9744 - val_loss: 0.1015 - val_accuracy: 0.9700\n",
            "Epoch 12/30\n",
            "1719/1719 [==============================] - 12s 7ms/step - loss: 0.0852 - accuracy: 0.9763 - val_loss: 0.0930 - val_accuracy: 0.9728\n",
            "Epoch 13/30\n",
            "1719/1719 [==============================] - 12s 7ms/step - loss: 0.0786 - accuracy: 0.9783 - val_loss: 0.0903 - val_accuracy: 0.9750\n",
            "Epoch 14/30\n",
            "1719/1719 [==============================] - 12s 7ms/step - loss: 0.0727 - accuracy: 0.9799 - val_loss: 0.0875 - val_accuracy: 0.9742\n",
            "Epoch 15/30\n",
            "1719/1719 [==============================] - 12s 7ms/step - loss: 0.0673 - accuracy: 0.9818 - val_loss: 0.0807 - val_accuracy: 0.9768\n",
            "Epoch 16/30\n",
            "1719/1719 [==============================] - 12s 7ms/step - loss: 0.0626 - accuracy: 0.9828 - val_loss: 0.0812 - val_accuracy: 0.9746\n",
            "Epoch 17/30\n",
            "1719/1719 [==============================] - 12s 7ms/step - loss: 0.0584 - accuracy: 0.9842 - val_loss: 0.0785 - val_accuracy: 0.9770\n",
            "Epoch 18/30\n",
            "1719/1719 [==============================] - 12s 7ms/step - loss: 0.0548 - accuracy: 0.9855 - val_loss: 0.0762 - val_accuracy: 0.9778\n",
            "Epoch 19/30\n",
            "1719/1719 [==============================] - 12s 7ms/step - loss: 0.0510 - accuracy: 0.9866 - val_loss: 0.0732 - val_accuracy: 0.9780\n",
            "Epoch 20/30\n",
            "1719/1719 [==============================] - 12s 7ms/step - loss: 0.0478 - accuracy: 0.9873 - val_loss: 0.0720 - val_accuracy: 0.9790\n",
            "Epoch 21/30\n",
            "1719/1719 [==============================] - 12s 7ms/step - loss: 0.0447 - accuracy: 0.9887 - val_loss: 0.0696 - val_accuracy: 0.9792\n",
            "Epoch 22/30\n",
            "1719/1719 [==============================] - 12s 7ms/step - loss: 0.0422 - accuracy: 0.9894 - val_loss: 0.0692 - val_accuracy: 0.9796\n",
            "Epoch 23/30\n",
            "1719/1719 [==============================] - 12s 7ms/step - loss: 0.0392 - accuracy: 0.9901 - val_loss: 0.0682 - val_accuracy: 0.9802\n",
            "Epoch 24/30\n",
            "1719/1719 [==============================] - 12s 7ms/step - loss: 0.0370 - accuracy: 0.9911 - val_loss: 0.0687 - val_accuracy: 0.9804\n",
            "Epoch 25/30\n",
            "1719/1719 [==============================] - 12s 7ms/step - loss: 0.0348 - accuracy: 0.9920 - val_loss: 0.0637 - val_accuracy: 0.9818\n",
            "Epoch 26/30\n",
            "1719/1719 [==============================] - 12s 7ms/step - loss: 0.0328 - accuracy: 0.9927 - val_loss: 0.0629 - val_accuracy: 0.9814\n",
            "Epoch 27/30\n",
            "1719/1719 [==============================] - 11s 7ms/step - loss: 0.0310 - accuracy: 0.9929 - val_loss: 0.0645 - val_accuracy: 0.9806\n",
            "Epoch 28/30\n",
            "1719/1719 [==============================] - 12s 7ms/step - loss: 0.0290 - accuracy: 0.9935 - val_loss: 0.0620 - val_accuracy: 0.9816\n",
            "Epoch 29/30\n",
            "1719/1719 [==============================] - 12s 7ms/step - loss: 0.0275 - accuracy: 0.9938 - val_loss: 0.0621 - val_accuracy: 0.9812\n",
            "Epoch 30/30\n",
            "1719/1719 [==============================] - 11s 7ms/step - loss: 0.0259 - accuracy: 0.9946 - val_loss: 0.0621 - val_accuracy: 0.9818\n"
          ]
        }
      ]
    },
    {
      "cell_type": "code",
      "source": [
        "history.params"
      ],
      "metadata": {
        "colab": {
          "base_uri": "https://localhost:8080/"
        },
        "id": "UYCjetfL-5OO",
        "outputId": "21f6d871-d7f7-4734-cc84-bebc9194ad2c"
      },
      "execution_count": null,
      "outputs": [
        {
          "output_type": "execute_result",
          "data": {
            "text/plain": [
              "{'epochs': 30, 'steps': 1719, 'verbose': 1}"
            ]
          },
          "metadata": {},
          "execution_count": 82
        }
      ]
    },
    {
      "cell_type": "code",
      "source": [
        "history.history.keys()"
      ],
      "metadata": {
        "colab": {
          "base_uri": "https://localhost:8080/"
        },
        "id": "-L2R118X_VDF",
        "outputId": "b849b888-6443-440b-a324-e001016ba514"
      },
      "execution_count": null,
      "outputs": [
        {
          "output_type": "execute_result",
          "data": {
            "text/plain": [
              "dict_keys(['loss', 'accuracy', 'val_loss', 'val_accuracy'])"
            ]
          },
          "metadata": {},
          "execution_count": 83
        }
      ]
    },
    {
      "cell_type": "code",
      "source": [
        "pd.DataFrame(history.history)\n",
        "pd.DataFrame(history.history).plot(figsize = (10, 10))"
      ],
      "metadata": {
        "colab": {
          "base_uri": "https://localhost:8080/",
          "height": 609
        },
        "id": "HKN9Hi7Yok4F",
        "outputId": "26c41c70-a89c-4197-adf6-572bb298b350"
      },
      "execution_count": null,
      "outputs": [
        {
          "output_type": "execute_result",
          "data": {
            "text/plain": [
              "<matplotlib.axes._subplots.AxesSubplot at 0x7f6c16d4cc10>"
            ]
          },
          "metadata": {},
          "execution_count": 84
        },
        {
          "output_type": "display_data",
          "data": {
            "image/png": "[encoded data removed]",
            "text/plain": [
              "<Figure size 720x720 with 1 Axes>"
            ]
          },
          "metadata": {
            "needs_background": "light"
          }
        }
      ]
    },
    {
      "cell_type": "code",
      "source": [
        "# Part 5: Validation\n",
        "data_model.evaluate(x_test, y_test)"
      ],
      "metadata": {
        "colab": {
          "base_uri": "https://localhost:8080/"
        },
        "id": "FOGJ_6Seok7C",
        "outputId": "e154de1b-9669-4707-8c66-0566f5579216"
      },
      "execution_count": null,
      "outputs": [
        {
          "output_type": "stream",
          "name": "stdout",
          "text": [
            "313/313 [==============================] - 1s 3ms/step - loss: 0.0696 - accuracy: 0.9782\n"
          ]
        },
        {
          "output_type": "execute_result",
          "data": {
            "text/plain": [
              "[0.06958368420600891, 0.9782000184059143]"
            ]
          },
          "metadata": {},
          "execution_count": 85
        }
      ]
    },
    {
      "cell_type": "code",
      "source": [
        "plt.imshow(x_train_full[1].reshape(28, 28), cmap = \"binary\")"
      ],
      "metadata": {
        "colab": {
          "base_uri": "https://localhost:8080/",
          "height": 282
        },
        "id": "pxZlTJJDzkbX",
        "outputId": "340aa7b4-3e6d-42b1-b4ba-20d6fbf28d16"
      },
      "execution_count": null,
      "outputs": [
        {
          "output_type": "execute_result",
          "data": {
            "text/plain": [
              "<matplotlib.image.AxesImage at 0x7f6c98938a50>"
            ]
          },
          "metadata": {},
          "execution_count": 86
        },
        {
          "output_type": "display_data",
          "data": {
            "image/png": "[encoded data removed]",
            "text/plain": [
              "<Figure size 432x288 with 1 Axes>"
            ]
          },
          "metadata": {
            "needs_background": "light"
          }
        }
      ]
    },
    {
      "cell_type": "code",
      "source": [
        "# Let's see if it can accurately identify these images\n",
        "np.argmax(data_model.predict(x_train_full[:1]))"
      ],
      "metadata": {
        "colab": {
          "base_uri": "https://localhost:8080/"
        },
        "id": "eebD8pTQz723",
        "outputId": "4af833c5-a088-4be4-c4c9-52b1dcd9830f"
      },
      "execution_count": null,
      "outputs": [
        {
          "output_type": "execute_result",
          "data": {
            "text/plain": [
              "5"
            ]
          },
          "metadata": {},
          "execution_count": 87
        }
      ]
    },
    {
      "cell_type": "code",
      "source": [
        "# I tend to get pretty high accuracy levels from training this data set one time (0.97 ish),\n",
        "# but it can probably be retrained once or twice to get close to 0.99 accuracy.\n",
        "history_2 = data_model.fit(x_train_train, y_train_train, epochs = 12, validation_data = (x_train_validate, y_train_validate))"
      ],
      "metadata": {
        "colab": {
          "base_uri": "https://localhost:8080/"
        },
        "id": "T_M2LeOQqgSn",
        "outputId": "1698e2ae-7c08-4e30-8930-242fee4967f0"
      },
      "execution_count": null,
      "outputs": [
        {
          "output_type": "stream",
          "name": "stdout",
          "text": [
            "Epoch 1/12\n",
            "1719/1719 [==============================] - 12s 7ms/step - loss: 0.0245 - accuracy: 0.9950 - val_loss: 0.0599 - val_accuracy: 0.9826\n",
            "Epoch 2/12\n",
            "1719/1719 [==============================] - 12s 7ms/step - loss: 0.0232 - accuracy: 0.9956 - val_loss: 0.0596 - val_accuracy: 0.9820\n",
            "Epoch 3/12\n",
            "1719/1719 [==============================] - 15s 8ms/step - loss: 0.0217 - accuracy: 0.9958 - val_loss: 0.0586 - val_accuracy: 0.9834\n",
            "Epoch 4/12\n",
            "1719/1719 [==============================] - 12s 7ms/step - loss: 0.0206 - accuracy: 0.9964 - val_loss: 0.0605 - val_accuracy: 0.9830\n",
            "Epoch 5/12\n",
            "1719/1719 [==============================] - 12s 7ms/step - loss: 0.0194 - accuracy: 0.9966 - val_loss: 0.0584 - val_accuracy: 0.9838\n",
            "Epoch 6/12\n",
            "1719/1719 [==============================] - 11s 7ms/step - loss: 0.0183 - accuracy: 0.9971 - val_loss: 0.0585 - val_accuracy: 0.9830\n",
            "Epoch 7/12\n",
            "1719/1719 [==============================] - 12s 7ms/step - loss: 0.0176 - accuracy: 0.9973 - val_loss: 0.0579 - val_accuracy: 0.9818\n",
            "Epoch 8/12\n",
            "1719/1719 [==============================] - 11s 7ms/step - loss: 0.0166 - accuracy: 0.9975 - val_loss: 0.0596 - val_accuracy: 0.9820\n",
            "Epoch 9/12\n",
            "1719/1719 [==============================] - 12s 7ms/step - loss: 0.0158 - accuracy: 0.9976 - val_loss: 0.0589 - val_accuracy: 0.9834\n",
            "Epoch 10/12\n",
            "1719/1719 [==============================] - 12s 7ms/step - loss: 0.0150 - accuracy: 0.9978 - val_loss: 0.0570 - val_accuracy: 0.9834\n",
            "Epoch 11/12\n",
            "1719/1719 [==============================] - 12s 7ms/step - loss: 0.0141 - accuracy: 0.9981 - val_loss: 0.0584 - val_accuracy: 0.9838\n",
            "Epoch 12/12\n",
            "1719/1719 [==============================] - 12s 7ms/step - loss: 0.0135 - accuracy: 0.9982 - val_loss: 0.0565 - val_accuracy: 0.9836\n"
          ]
        }
      ]
    },
    {
      "cell_type": "code",
      "source": [
        "data_model.evaluate(x_test, y_test)"
      ],
      "metadata": {
        "colab": {
          "base_uri": "https://localhost:8080/"
        },
        "outputId": "d72f51a2-1107-4a03-a59e-6cf982ccbaa0",
        "id": "XDyZnnDkxqNy"
      },
      "execution_count": null,
      "outputs": [
        {
          "output_type": "stream",
          "name": "stdout",
          "text": [
            "313/313 [==============================] - 1s 3ms/step - loss: 0.0643 - accuracy: 0.9805\n"
          ]
        },
        {
          "output_type": "execute_result",
          "data": {
            "text/plain": [
              "[0.06426364928483963, 0.9804999828338623]"
            ]
          },
          "metadata": {},
          "execution_count": 89
        }
      ]
    },
    {
      "cell_type": "code",
      "source": [
        "history_3 = data_model.fit(x_train_train, y_train_train, epochs = 9, validation_data = (x_train_validate, y_train_validate))"
      ],
      "metadata": {
        "colab": {
          "base_uri": "https://localhost:8080/"
        },
        "id": "ZxX9TB9uxi0o",
        "outputId": "9009dcaf-596e-4c2e-d500-9c3ac5da8690"
      },
      "execution_count": null,
      "outputs": [
        {
          "output_type": "stream",
          "name": "stdout",
          "text": [
            "Epoch 1/9\n",
            "1719/1719 [==============================] - 12s 7ms/step - loss: 0.0128 - accuracy: 0.9984 - val_loss: 0.0572 - val_accuracy: 0.9838\n",
            "Epoch 2/9\n",
            "1719/1719 [==============================] - 11s 7ms/step - loss: 0.0122 - accuracy: 0.9986 - val_loss: 0.0574 - val_accuracy: 0.9834\n",
            "Epoch 3/9\n",
            "1719/1719 [==============================] - 12s 7ms/step - loss: 0.0115 - accuracy: 0.9987 - val_loss: 0.0563 - val_accuracy: 0.9848\n",
            "Epoch 4/9\n",
            "1719/1719 [==============================] - 11s 7ms/step - loss: 0.0110 - accuracy: 0.9989 - val_loss: 0.0583 - val_accuracy: 0.9836\n",
            "Epoch 5/9\n",
            "1719/1719 [==============================] - 11s 7ms/step - loss: 0.0105 - accuracy: 0.9988 - val_loss: 0.0565 - val_accuracy: 0.9844\n",
            "Epoch 6/9\n",
            "1719/1719 [==============================] - 12s 7ms/step - loss: 0.0100 - accuracy: 0.9991 - val_loss: 0.0573 - val_accuracy: 0.9838\n",
            "Epoch 7/9\n",
            "1719/1719 [==============================] - 12s 7ms/step - loss: 0.0097 - accuracy: 0.9991 - val_loss: 0.0568 - val_accuracy: 0.9830\n",
            "Epoch 8/9\n",
            "1719/1719 [==============================] - 11s 7ms/step - loss: 0.0093 - accuracy: 0.9992 - val_loss: 0.0580 - val_accuracy: 0.9834\n",
            "Epoch 9/9\n",
            "1719/1719 [==============================] - 11s 7ms/step - loss: 0.0088 - accuracy: 0.9992 - val_loss: 0.0578 - val_accuracy: 0.9844\n"
          ]
        }
      ]
    },
    {
      "cell_type": "code",
      "source": [
        "data_model.evaluate(x_test, y_test)"
      ],
      "metadata": {
        "colab": {
          "base_uri": "https://localhost:8080/"
        },
        "id": "-3bqx0yBxUGN",
        "outputId": "42f676ee-b7ef-410d-db5c-8adc4fbb780f"
      },
      "execution_count": null,
      "outputs": [
        {
          "output_type": "stream",
          "name": "stdout",
          "text": [
            "313/313 [==============================] - 1s 3ms/step - loss: 0.0661 - accuracy: 0.9806\n"
          ]
        },
        {
          "output_type": "execute_result",
          "data": {
            "text/plain": [
              "[0.06613769382238388, 0.9805999994277954]"
            ]
          },
          "metadata": {},
          "execution_count": 91
        }
      ]
    },
    {
      "cell_type": "code",
      "source": [
        "histories = pd.DataFrame(history.history)\n",
        "histories"
      ],
      "metadata": {
        "colab": {
          "base_uri": "https://localhost:8080/",
          "height": 990
        },
        "id": "7w0qXkHR_qqh",
        "outputId": "55cc5fb9-29f2-4ef9-a96d-81d2ac08eee4"
      },
      "execution_count": null,
      "outputs": [
        {
          "output_type": "execute_result",
          "data": {
            "text/html": [
              "\n",
              "  <div id=\"df-59545c03-b899-45fe-bf37-05cbb41e6441\">\n",
              "    <div class=\"colab-df-container\">\n",
              "      <div>\n",
              "<style scoped>\n",
              "    .dataframe tbody tr th:only-of-type {\n",
              "        vertical-align: middle;\n",
              "    }\n",
              "\n",
              "    .dataframe tbody tr th {\n",
              "        vertical-align: top;\n",
              "    }\n",
              "\n",
              "    .dataframe thead th {\n",
              "        text-align: right;\n",
              "    }\n",
              "</style>\n",
              "<table border=\"1\" class=\"dataframe\">\n",
              "  <thead>\n",
              "    <tr style=\"text-align: right;\">\n",
              "      <th></th>\n",
              "      <th>loss</th>\n",
              "      <th>accuracy</th>\n",
              "      <th>val_loss</th>\n",
              "      <th>val_accuracy</th>\n",
              "    </tr>\n",
              "  </thead>\n",
              "  <tbody>\n",
              "    <tr>\n",
              "      <th>0</th>\n",
              "      <td>0.577334</td>\n",
              "      <td>0.858109</td>\n",
              "      <td>0.322419</td>\n",
              "      <td>0.9048</td>\n",
              "    </tr>\n",
              "    <tr>\n",
              "      <th>1</th>\n",
              "      <td>0.280674</td>\n",
              "      <td>0.919073</td>\n",
              "      <td>0.250207</td>\n",
              "      <td>0.9290</td>\n",
              "    </tr>\n",
              "    <tr>\n",
              "      <th>2</th>\n",
              "      <td>0.229578</td>\n",
              "      <td>0.934182</td>\n",
              "      <td>0.212169</td>\n",
              "      <td>0.9394</td>\n",
              "    </tr>\n",
              "    <tr>\n",
              "      <th>3</th>\n",
              "      <td>0.195502</td>\n",
              "      <td>0.944455</td>\n",
              "      <td>0.184831</td>\n",
              "      <td>0.9456</td>\n",
              "    </tr>\n",
              "    <tr>\n",
              "      <th>4</th>\n",
              "      <td>0.170230</td>\n",
              "      <td>0.951345</td>\n",
              "      <td>0.162372</td>\n",
              "      <td>0.9512</td>\n",
              "    </tr>\n",
              "    <tr>\n",
              "      <th>5</th>\n",
              "      <td>0.150714</td>\n",
              "      <td>0.956727</td>\n",
              "      <td>0.146660</td>\n",
              "      <td>0.9560</td>\n",
              "    </tr>\n",
              "    <tr>\n",
              "      <th>6</th>\n",
              "      <td>0.135114</td>\n",
              "      <td>0.961145</td>\n",
              "      <td>0.131902</td>\n",
              "      <td>0.9630</td>\n",
              "    </tr>\n",
              "    <tr>\n",
              "      <th>7</th>\n",
              "      <td>0.122124</td>\n",
              "      <td>0.965600</td>\n",
              "      <td>0.124907</td>\n",
              "      <td>0.9642</td>\n",
              "    </tr>\n",
              "    <tr>\n",
              "      <th>8</th>\n",
              "      <td>0.110858</td>\n",
              "      <td>0.968491</td>\n",
              "      <td>0.115869</td>\n",
              "      <td>0.9670</td>\n",
              "    </tr>\n",
              "    <tr>\n",
              "      <th>9</th>\n",
              "      <td>0.101244</td>\n",
              "      <td>0.971709</td>\n",
              "      <td>0.106136</td>\n",
              "      <td>0.9694</td>\n",
              "    </tr>\n",
              "    <tr>\n",
              "      <th>10</th>\n",
              "      <td>0.092522</td>\n",
              "      <td>0.974364</td>\n",
              "      <td>0.101494</td>\n",
              "      <td>0.9700</td>\n",
              "    </tr>\n",
              "    <tr>\n",
              "      <th>11</th>\n",
              "      <td>0.085155</td>\n",
              "      <td>0.976327</td>\n",
              "      <td>0.093035</td>\n",
              "      <td>0.9728</td>\n",
              "    </tr>\n",
              "    <tr>\n",
              "      <th>12</th>\n",
              "      <td>0.078558</td>\n",
              "      <td>0.978327</td>\n",
              "      <td>0.090258</td>\n",
              "      <td>0.9750</td>\n",
              "    </tr>\n",
              "    <tr>\n",
              "      <th>13</th>\n",
              "      <td>0.072697</td>\n",
              "      <td>0.979909</td>\n",
              "      <td>0.087505</td>\n",
              "      <td>0.9742</td>\n",
              "    </tr>\n",
              "    <tr>\n",
              "      <th>14</th>\n",
              "      <td>0.067321</td>\n",
              "      <td>0.981818</td>\n",
              "      <td>0.080708</td>\n",
              "      <td>0.9768</td>\n",
              "    </tr>\n",
              "    <tr>\n",
              "      <th>15</th>\n",
              "      <td>0.062642</td>\n",
              "      <td>0.982836</td>\n",
              "      <td>0.081198</td>\n",
              "      <td>0.9746</td>\n",
              "    </tr>\n",
              "    <tr>\n",
              "      <th>16</th>\n",
              "      <td>0.058378</td>\n",
              "      <td>0.984218</td>\n",
              "      <td>0.078501</td>\n",
              "      <td>0.9770</td>\n",
              "    </tr>\n",
              "    <tr>\n",
              "      <th>17</th>\n",
              "      <td>0.054780</td>\n",
              "      <td>0.985455</td>\n",
              "      <td>0.076177</td>\n",
              "      <td>0.9778</td>\n",
              "    </tr>\n",
              "    <tr>\n",
              "      <th>18</th>\n",
              "      <td>0.051043</td>\n",
              "      <td>0.986600</td>\n",
              "      <td>0.073224</td>\n",
              "      <td>0.9780</td>\n",
              "    </tr>\n",
              "    <tr>\n",
              "      <th>19</th>\n",
              "      <td>0.047793</td>\n",
              "      <td>0.987345</td>\n",
              "      <td>0.072010</td>\n",
              "      <td>0.9790</td>\n",
              "    </tr>\n",
              "    <tr>\n",
              "      <th>20</th>\n",
              "      <td>0.044715</td>\n",
              "      <td>0.988673</td>\n",
              "      <td>0.069622</td>\n",
              "      <td>0.9792</td>\n",
              "    </tr>\n",
              "    <tr>\n",
              "      <th>21</th>\n",
              "      <td>0.042195</td>\n",
              "      <td>0.989418</td>\n",
              "      <td>0.069168</td>\n",
              "      <td>0.9796</td>\n",
              "    </tr>\n",
              "    <tr>\n",
              "      <th>22</th>\n",
              "      <td>0.039241</td>\n",
              "      <td>0.990145</td>\n",
              "      <td>0.068187</td>\n",
              "      <td>0.9802</td>\n",
              "    </tr>\n",
              "    <tr>\n",
              "      <th>23</th>\n",
              "      <td>0.036960</td>\n",
              "      <td>0.991145</td>\n",
              "      <td>0.068739</td>\n",
              "      <td>0.9804</td>\n",
              "    </tr>\n",
              "    <tr>\n",
              "      <th>24</th>\n",
              "      <td>0.034833</td>\n",
              "      <td>0.992000</td>\n",
              "      <td>0.063703</td>\n",
              "      <td>0.9818</td>\n",
              "    </tr>\n",
              "    <tr>\n",
              "      <th>25</th>\n",
              "      <td>0.032813</td>\n",
              "      <td>0.992655</td>\n",
              "      <td>0.062898</td>\n",
              "      <td>0.9814</td>\n",
              "    </tr>\n",
              "    <tr>\n",
              "      <th>26</th>\n",
              "      <td>0.031005</td>\n",
              "      <td>0.992855</td>\n",
              "      <td>0.064460</td>\n",
              "      <td>0.9806</td>\n",
              "    </tr>\n",
              "    <tr>\n",
              "      <th>27</th>\n",
              "      <td>0.029018</td>\n",
              "      <td>0.993491</td>\n",
              "      <td>0.061974</td>\n",
              "      <td>0.9816</td>\n",
              "    </tr>\n",
              "    <tr>\n",
              "      <th>28</th>\n",
              "      <td>0.027486</td>\n",
              "      <td>0.993782</td>\n",
              "      <td>0.062090</td>\n",
              "      <td>0.9812</td>\n",
              "    </tr>\n",
              "    <tr>\n",
              "      <th>29</th>\n",
              "      <td>0.025874</td>\n",
              "      <td>0.994564</td>\n",
              "      <td>0.062147</td>\n",
              "      <td>0.9818</td>\n",
              "    </tr>\n",
              "  </tbody>\n",
              "</table>\n",
              "</div>\n",
              "      <button class=\"colab-df-convert\" onclick=\"convertToInteractive('df-59545c03-b899-45fe-bf37-05cbb41e6441')\"\n",
              "              title=\"Convert this dataframe to an interactive table.\"\n",
              "              style=\"display:none;\">\n",
              "        \n",
              "  <svg xmlns=\"http://www.w3.org/2000/svg\" height=\"24px\"viewBox=\"0 0 24 24\"\n",
              "       width=\"24px\">\n",
              "    <path d=\"M0 0h24v24H0V0z\" fill=\"none\"/>\n",
              "    <path d=\"M18.56 5.44l.94 2.06.94-2.06 2.06-.94-2.06-.94-.94-2.06-.94 2.06-2.06.94zm-11 1L8.5 8.5l.94-2.06 2.06-.94-2.06-.94L8.5 2.5l-.94 2.06-2.06.94zm10 10l.94 2.06.94-2.06 2.06-.94-2.06-.94-.94-2.06-.94 2.06-2.06.94z\"/><path d=\"M17.41 7.96l-1.37-1.37c-.4-.4-.92-.59-1.43-.59-.52 0-1.04.2-1.43.59L10.3 9.45l-7.72 7.72c-.78.78-.78 2.05 0 2.83L4 21.41c.39.39.9.59 1.41.59.51 0 1.02-.2 1.41-.59l7.78-7.78 2.81-2.81c.8-.78.8-2.07 0-2.86zM5.41 20L4 18.59l7.72-7.72 1.47 1.35L5.41 20z\"/>\n",
              "  </svg>\n",
              "      </button>\n",
              "      \n",
              "  <style>\n",
              "    .colab-df-container {\n",
              "      display:flex;\n",
              "      flex-wrap:wrap;\n",
              "      gap: 12px;\n",
              "    }\n",
              "\n",
              "    .colab-df-convert {\n",
              "      background-color: #E8F0FE;\n",
              "      border: none;\n",
              "      border-radius: 50%;\n",
              "      cursor: pointer;\n",
              "      display: none;\n",
              "      fill: #1967D2;\n",
              "      height: 32px;\n",
              "      padding: 0 0 0 0;\n",
              "      width: 32px;\n",
              "    }\n",
              "\n",
              "    .colab-df-convert:hover {\n",
              "      background-color: #E2EBFA;\n",
              "      box-shadow: 0px 1px 2px rgba(60, 64, 67, 0.3), 0px 1px 3px 1px rgba(60, 64, 67, 0.15);\n",
              "      fill: #174EA6;\n",
              "    }\n",
              "\n",
              "    [theme=dark] .colab-df-convert {\n",
              "      background-color: #3B4455;\n",
              "      fill: #D2E3FC;\n",
              "    }\n",
              "\n",
              "    [theme=dark] .colab-df-convert:hover {\n",
              "      background-color: #434B5C;\n",
              "      box-shadow: 0px 1px 3px 1px rgba(0, 0, 0, 0.15);\n",
              "      filter: drop-shadow(0px 1px 2px rgba(0, 0, 0, 0.3));\n",
              "      fill: #FFFFFF;\n",
              "    }\n",
              "  </style>\n",
              "\n",
              "      <script>\n",
              "        const buttonEl =\n",
              "          document.querySelector('#df-59545c03-b899-45fe-bf37-05cbb41e6441 button.colab-df-convert');\n",
              "        buttonEl.style.display =\n",
              "          google.colab.kernel.accessAllowed ? 'block' : 'none';\n",
              "\n",
              "        async function convertToInteractive(key) {\n",
              "          const element = document.querySelector('#df-59545c03-b899-45fe-bf37-05cbb41e6441');\n",
              "          const dataTable =\n",
              "            await google.colab.kernel.invokeFunction('convertToInteractive',\n",
              "                                                     [key], {});\n",
              "          if (!dataTable) return;\n",
              "\n",
              "          const docLinkHtml = 'Like what you see? Visit the ' +\n",
              "            '<a target=\"_blank\" href=https://colab.research.google.com/notebooks/data_table.ipynb>data table notebook</a>'\n",
              "            + ' to learn more about interactive tables.';\n",
              "          element.innerHTML = '';\n",
              "          dataTable['output_type'] = 'display_data';\n",
              "          await google.colab.output.renderOutput(dataTable, element);\n",
              "          const docLink = document.createElement('div');\n",
              "          docLink.innerHTML = docLinkHtml;\n",
              "          element.appendChild(docLink);\n",
              "        }\n",
              "      </script>\n",
              "    </div>\n",
              "  </div>\n",
              "  "
            ],
            "text/plain": [
              "        loss  accuracy  val_loss  val_accuracy\n",
              "0   0.577334  0.858109  0.322419        0.9048\n",
              "1   0.280674  0.919073  0.250207        0.9290\n",
              "2   0.229578  0.934182  0.212169        0.9394\n",
              "3   0.195502  0.944455  0.184831        0.9456\n",
              "4   0.170230  0.951345  0.162372        0.9512\n",
              "5   0.150714  0.956727  0.146660        0.9560\n",
              "6   0.135114  0.961145  0.131902        0.9630\n",
              "7   0.122124  0.965600  0.124907        0.9642\n",
              "8   0.110858  0.968491  0.115869        0.9670\n",
              "9   0.101244  0.971709  0.106136        0.9694\n",
              "10  0.092522  0.974364  0.101494        0.9700\n",
              "11  0.085155  0.976327  0.093035        0.9728\n",
              "12  0.078558  0.978327  0.090258        0.9750\n",
              "13  0.072697  0.979909  0.087505        0.9742\n",
              "14  0.067321  0.981818  0.080708        0.9768\n",
              "15  0.062642  0.982836  0.081198        0.9746\n",
              "16  0.058378  0.984218  0.078501        0.9770\n",
              "17  0.054780  0.985455  0.076177        0.9778\n",
              "18  0.051043  0.986600  0.073224        0.9780\n",
              "19  0.047793  0.987345  0.072010        0.9790\n",
              "20  0.044715  0.988673  0.069622        0.9792\n",
              "21  0.042195  0.989418  0.069168        0.9796\n",
              "22  0.039241  0.990145  0.068187        0.9802\n",
              "23  0.036960  0.991145  0.068739        0.9804\n",
              "24  0.034833  0.992000  0.063703        0.9818\n",
              "25  0.032813  0.992655  0.062898        0.9814\n",
              "26  0.031005  0.992855  0.064460        0.9806\n",
              "27  0.029018  0.993491  0.061974        0.9816\n",
              "28  0.027486  0.993782  0.062090        0.9812\n",
              "29  0.025874  0.994564  0.062147        0.9818"
            ]
          },
          "metadata": {},
          "execution_count": 92
        }
      ]
    },
    {
      "cell_type": "code",
      "source": [
        "histories = histories.append(pd.DataFrame(history_2.history), \n",
        "                             ignore_index=True)\n",
        "histories"
      ],
      "metadata": {
        "colab": {
          "base_uri": "https://localhost:8080/",
          "height": 1000
        },
        "id": "bZ3r9pu7_2nF",
        "outputId": "393bc128-0725-45f4-aa6c-d853ecf27f8b"
      },
      "execution_count": null,
      "outputs": [
        {
          "output_type": "execute_result",
          "data": {
            "text/html": [
              "\n",
              "  <div id=\"df-94e9a04e-e2dd-41bb-8fa3-37c618d2ac77\">\n",
              "    <div class=\"colab-df-container\">\n",
              "      <div>\n",
              "<style scoped>\n",
              "    .dataframe tbody tr th:only-of-type {\n",
              "        vertical-align: middle;\n",
              "    }\n",
              "\n",
              "    .dataframe tbody tr th {\n",
              "        vertical-align: top;\n",
              "    }\n",
              "\n",
              "    .dataframe thead th {\n",
              "        text-align: right;\n",
              "    }\n",
              "</style>\n",
              "<table border=\"1\" class=\"dataframe\">\n",
              "  <thead>\n",
              "    <tr style=\"text-align: right;\">\n",
              "      <th></th>\n",
              "      <th>loss</th>\n",
              "      <th>accuracy</th>\n",
              "      <th>val_loss</th>\n",
              "      <th>val_accuracy</th>\n",
              "    </tr>\n",
              "  </thead>\n",
              "  <tbody>\n",
              "    <tr>\n",
              "      <th>0</th>\n",
              "      <td>0.577334</td>\n",
              "      <td>0.858109</td>\n",
              "      <td>0.322419</td>\n",
              "      <td>0.9048</td>\n",
              "    </tr>\n",
              "    <tr>\n",
              "      <th>1</th>\n",
              "      <td>0.280674</td>\n",
              "      <td>0.919073</td>\n",
              "      <td>0.250207</td>\n",
              "      <td>0.9290</td>\n",
              "    </tr>\n",
              "    <tr>\n",
              "      <th>2</th>\n",
              "      <td>0.229578</td>\n",
              "      <td>0.934182</td>\n",
              "      <td>0.212169</td>\n",
              "      <td>0.9394</td>\n",
              "    </tr>\n",
              "    <tr>\n",
              "      <th>3</th>\n",
              "      <td>0.195502</td>\n",
              "      <td>0.944455</td>\n",
              "      <td>0.184831</td>\n",
              "      <td>0.9456</td>\n",
              "    </tr>\n",
              "    <tr>\n",
              "      <th>4</th>\n",
              "      <td>0.170230</td>\n",
              "      <td>0.951345</td>\n",
              "      <td>0.162372</td>\n",
              "      <td>0.9512</td>\n",
              "    </tr>\n",
              "    <tr>\n",
              "      <th>5</th>\n",
              "      <td>0.150714</td>\n",
              "      <td>0.956727</td>\n",
              "      <td>0.146660</td>\n",
              "      <td>0.9560</td>\n",
              "    </tr>\n",
              "    <tr>\n",
              "      <th>6</th>\n",
              "      <td>0.135114</td>\n",
              "      <td>0.961145</td>\n",
              "      <td>0.131902</td>\n",
              "      <td>0.9630</td>\n",
              "    </tr>\n",
              "    <tr>\n",
              "      <th>7</th>\n",
              "      <td>0.122124</td>\n",
              "      <td>0.965600</td>\n",
              "      <td>0.124907</td>\n",
              "      <td>0.9642</td>\n",
              "    </tr>\n",
              "    <tr>\n",
              "      <th>8</th>\n",
              "      <td>0.110858</td>\n",
              "      <td>0.968491</td>\n",
              "      <td>0.115869</td>\n",
              "      <td>0.9670</td>\n",
              "    </tr>\n",
              "    <tr>\n",
              "      <th>9</th>\n",
              "      <td>0.101244</td>\n",
              "      <td>0.971709</td>\n",
              "      <td>0.106136</td>\n",
              "      <td>0.9694</td>\n",
              "    </tr>\n",
              "    <tr>\n",
              "      <th>10</th>\n",
              "      <td>0.092522</td>\n",
              "      <td>0.974364</td>\n",
              "      <td>0.101494</td>\n",
              "      <td>0.9700</td>\n",
              "    </tr>\n",
              "    <tr>\n",
              "      <th>11</th>\n",
              "      <td>0.085155</td>\n",
              "      <td>0.976327</td>\n",
              "      <td>0.093035</td>\n",
              "      <td>0.9728</td>\n",
              "    </tr>\n",
              "    <tr>\n",
              "      <th>12</th>\n",
              "      <td>0.078558</td>\n",
              "      <td>0.978327</td>\n",
              "      <td>0.090258</td>\n",
              "      <td>0.9750</td>\n",
              "    </tr>\n",
              "    <tr>\n",
              "      <th>13</th>\n",
              "      <td>0.072697</td>\n",
              "      <td>0.979909</td>\n",
              "      <td>0.087505</td>\n",
              "      <td>0.9742</td>\n",
              "    </tr>\n",
              "    <tr>\n",
              "      <th>14</th>\n",
              "      <td>0.067321</td>\n",
              "      <td>0.981818</td>\n",
              "      <td>0.080708</td>\n",
              "      <td>0.9768</td>\n",
              "    </tr>\n",
              "    <tr>\n",
              "      <th>15</th>\n",
              "      <td>0.062642</td>\n",
              "      <td>0.982836</td>\n",
              "      <td>0.081198</td>\n",
              "      <td>0.9746</td>\n",
              "    </tr>\n",
              "    <tr>\n",
              "      <th>16</th>\n",
              "      <td>0.058378</td>\n",
              "      <td>0.984218</td>\n",
              "      <td>0.078501</td>\n",
              "      <td>0.9770</td>\n",
              "    </tr>\n",
              "    <tr>\n",
              "      <th>17</th>\n",
              "      <td>0.054780</td>\n",
              "      <td>0.985455</td>\n",
              "      <td>0.076177</td>\n",
              "      <td>0.9778</td>\n",
              "    </tr>\n",
              "    <tr>\n",
              "      <th>18</th>\n",
              "      <td>0.051043</td>\n",
              "      <td>0.986600</td>\n",
              "      <td>0.073224</td>\n",
              "      <td>0.9780</td>\n",
              "    </tr>\n",
              "    <tr>\n",
              "      <th>19</th>\n",
              "      <td>0.047793</td>\n",
              "      <td>0.987345</td>\n",
              "      <td>0.072010</td>\n",
              "      <td>0.9790</td>\n",
              "    </tr>\n",
              "    <tr>\n",
              "      <th>20</th>\n",
              "      <td>0.044715</td>\n",
              "      <td>0.988673</td>\n",
              "      <td>0.069622</td>\n",
              "      <td>0.9792</td>\n",
              "    </tr>\n",
              "    <tr>\n",
              "      <th>21</th>\n",
              "      <td>0.042195</td>\n",
              "      <td>0.989418</td>\n",
              "      <td>0.069168</td>\n",
              "      <td>0.9796</td>\n",
              "    </tr>\n",
              "    <tr>\n",
              "      <th>22</th>\n",
              "      <td>0.039241</td>\n",
              "      <td>0.990145</td>\n",
              "      <td>0.068187</td>\n",
              "      <td>0.9802</td>\n",
              "    </tr>\n",
              "    <tr>\n",
              "      <th>23</th>\n",
              "      <td>0.036960</td>\n",
              "      <td>0.991145</td>\n",
              "      <td>0.068739</td>\n",
              "      <td>0.9804</td>\n",
              "    </tr>\n",
              "    <tr>\n",
              "      <th>24</th>\n",
              "      <td>0.034833</td>\n",
              "      <td>0.992000</td>\n",
              "      <td>0.063703</td>\n",
              "      <td>0.9818</td>\n",
              "    </tr>\n",
              "    <tr>\n",
              "      <th>25</th>\n",
              "      <td>0.032813</td>\n",
              "      <td>0.992655</td>\n",
              "      <td>0.062898</td>\n",
              "      <td>0.9814</td>\n",
              "    </tr>\n",
              "    <tr>\n",
              "      <th>26</th>\n",
              "      <td>0.031005</td>\n",
              "      <td>0.992855</td>\n",
              "      <td>0.064460</td>\n",
              "      <td>0.9806</td>\n",
              "    </tr>\n",
              "    <tr>\n",
              "      <th>27</th>\n",
              "      <td>0.029018</td>\n",
              "      <td>0.993491</td>\n",
              "      <td>0.061974</td>\n",
              "      <td>0.9816</td>\n",
              "    </tr>\n",
              "    <tr>\n",
              "      <th>28</th>\n",
              "      <td>0.027486</td>\n",
              "      <td>0.993782</td>\n",
              "      <td>0.062090</td>\n",
              "      <td>0.9812</td>\n",
              "    </tr>\n",
              "    <tr>\n",
              "      <th>29</th>\n",
              "      <td>0.025874</td>\n",
              "      <td>0.994564</td>\n",
              "      <td>0.062147</td>\n",
              "      <td>0.9818</td>\n",
              "    </tr>\n",
              "    <tr>\n",
              "      <th>30</th>\n",
              "      <td>0.024476</td>\n",
              "      <td>0.994982</td>\n",
              "      <td>0.059862</td>\n",
              "      <td>0.9826</td>\n",
              "    </tr>\n",
              "    <tr>\n",
              "      <th>31</th>\n",
              "      <td>0.023179</td>\n",
              "      <td>0.995582</td>\n",
              "      <td>0.059645</td>\n",
              "      <td>0.9820</td>\n",
              "    </tr>\n",
              "    <tr>\n",
              "      <th>32</th>\n",
              "      <td>0.021747</td>\n",
              "      <td>0.995818</td>\n",
              "      <td>0.058580</td>\n",
              "      <td>0.9834</td>\n",
              "    </tr>\n",
              "    <tr>\n",
              "      <th>33</th>\n",
              "      <td>0.020562</td>\n",
              "      <td>0.996364</td>\n",
              "      <td>0.060495</td>\n",
              "      <td>0.9830</td>\n",
              "    </tr>\n",
              "    <tr>\n",
              "      <th>34</th>\n",
              "      <td>0.019447</td>\n",
              "      <td>0.996582</td>\n",
              "      <td>0.058357</td>\n",
              "      <td>0.9838</td>\n",
              "    </tr>\n",
              "    <tr>\n",
              "      <th>35</th>\n",
              "      <td>0.018280</td>\n",
              "      <td>0.997055</td>\n",
              "      <td>0.058538</td>\n",
              "      <td>0.9830</td>\n",
              "    </tr>\n",
              "    <tr>\n",
              "      <th>36</th>\n",
              "      <td>0.017595</td>\n",
              "      <td>0.997327</td>\n",
              "      <td>0.057912</td>\n",
              "      <td>0.9818</td>\n",
              "    </tr>\n",
              "    <tr>\n",
              "      <th>37</th>\n",
              "      <td>0.016641</td>\n",
              "      <td>0.997473</td>\n",
              "      <td>0.059577</td>\n",
              "      <td>0.9820</td>\n",
              "    </tr>\n",
              "    <tr>\n",
              "      <th>38</th>\n",
              "      <td>0.015816</td>\n",
              "      <td>0.997600</td>\n",
              "      <td>0.058864</td>\n",
              "      <td>0.9834</td>\n",
              "    </tr>\n",
              "    <tr>\n",
              "      <th>39</th>\n",
              "      <td>0.014965</td>\n",
              "      <td>0.997818</td>\n",
              "      <td>0.056988</td>\n",
              "      <td>0.9834</td>\n",
              "    </tr>\n",
              "    <tr>\n",
              "      <th>40</th>\n",
              "      <td>0.014098</td>\n",
              "      <td>0.998145</td>\n",
              "      <td>0.058356</td>\n",
              "      <td>0.9838</td>\n",
              "    </tr>\n",
              "    <tr>\n",
              "      <th>41</th>\n",
              "      <td>0.013494</td>\n",
              "      <td>0.998164</td>\n",
              "      <td>0.056491</td>\n",
              "      <td>0.9836</td>\n",
              "    </tr>\n",
              "  </tbody>\n",
              "</table>\n",
              "</div>\n",
              "      <button class=\"colab-df-convert\" onclick=\"convertToInteractive('df-94e9a04e-e2dd-41bb-8fa3-37c618d2ac77')\"\n",
              "              title=\"Convert this dataframe to an interactive table.\"\n",
              "              style=\"display:none;\">\n",
              "        \n",
              "  <svg xmlns=\"http://www.w3.org/2000/svg\" height=\"24px\"viewBox=\"0 0 24 24\"\n",
              "       width=\"24px\">\n",
              "    <path d=\"M0 0h24v24H0V0z\" fill=\"none\"/>\n",
              "    <path d=\"M18.56 5.44l.94 2.06.94-2.06 2.06-.94-2.06-.94-.94-2.06-.94 2.06-2.06.94zm-11 1L8.5 8.5l.94-2.06 2.06-.94-2.06-.94L8.5 2.5l-.94 2.06-2.06.94zm10 10l.94 2.06.94-2.06 2.06-.94-2.06-.94-.94-2.06-.94 2.06-2.06.94z\"/><path d=\"M17.41 7.96l-1.37-1.37c-.4-.4-.92-.59-1.43-.59-.52 0-1.04.2-1.43.59L10.3 9.45l-7.72 7.72c-.78.78-.78 2.05 0 2.83L4 21.41c.39.39.9.59 1.41.59.51 0 1.02-.2 1.41-.59l7.78-7.78 2.81-2.81c.8-.78.8-2.07 0-2.86zM5.41 20L4 18.59l7.72-7.72 1.47 1.35L5.41 20z\"/>\n",
              "  </svg>\n",
              "      </button>\n",
              "      \n",
              "  <style>\n",
              "    .colab-df-container {\n",
              "      display:flex;\n",
              "      flex-wrap:wrap;\n",
              "      gap: 12px;\n",
              "    }\n",
              "\n",
              "    .colab-df-convert {\n",
              "      background-color: #E8F0FE;\n",
              "      border: none;\n",
              "      border-radius: 50%;\n",
              "      cursor: pointer;\n",
              "      display: none;\n",
              "      fill: #1967D2;\n",
              "      height: 32px;\n",
              "      padding: 0 0 0 0;\n",
              "      width: 32px;\n",
              "    }\n",
              "\n",
              "    .colab-df-convert:hover {\n",
              "      background-color: #E2EBFA;\n",
              "      box-shadow: 0px 1px 2px rgba(60, 64, 67, 0.3), 0px 1px 3px 1px rgba(60, 64, 67, 0.15);\n",
              "      fill: #174EA6;\n",
              "    }\n",
              "\n",
              "    [theme=dark] .colab-df-convert {\n",
              "      background-color: #3B4455;\n",
              "      fill: #D2E3FC;\n",
              "    }\n",
              "\n",
              "    [theme=dark] .colab-df-convert:hover {\n",
              "      background-color: #434B5C;\n",
              "      box-shadow: 0px 1px 3px 1px rgba(0, 0, 0, 0.15);\n",
              "      filter: drop-shadow(0px 1px 2px rgba(0, 0, 0, 0.3));\n",
              "      fill: #FFFFFF;\n",
              "    }\n",
              "  </style>\n",
              "\n",
              "      <script>\n",
              "        const buttonEl =\n",
              "          document.querySelector('#df-94e9a04e-e2dd-41bb-8fa3-37c618d2ac77 button.colab-df-convert');\n",
              "        buttonEl.style.display =\n",
              "          google.colab.kernel.accessAllowed ? 'block' : 'none';\n",
              "\n",
              "        async function convertToInteractive(key) {\n",
              "          const element = document.querySelector('#df-94e9a04e-e2dd-41bb-8fa3-37c618d2ac77');\n",
              "          const dataTable =\n",
              "            await google.colab.kernel.invokeFunction('convertToInteractive',\n",
              "                                                     [key], {});\n",
              "          if (!dataTable) return;\n",
              "\n",
              "          const docLinkHtml = 'Like what you see? Visit the ' +\n",
              "            '<a target=\"_blank\" href=https://colab.research.google.com/notebooks/data_table.ipynb>data table notebook</a>'\n",
              "            + ' to learn more about interactive tables.';\n",
              "          element.innerHTML = '';\n",
              "          dataTable['output_type'] = 'display_data';\n",
              "          await google.colab.output.renderOutput(dataTable, element);\n",
              "          const docLink = document.createElement('div');\n",
              "          docLink.innerHTML = docLinkHtml;\n",
              "          element.appendChild(docLink);\n",
              "        }\n",
              "      </script>\n",
              "    </div>\n",
              "  </div>\n",
              "  "
            ],
            "text/plain": [
              "        loss  accuracy  val_loss  val_accuracy\n",
              "0   0.577334  0.858109  0.322419        0.9048\n",
              "1   0.280674  0.919073  0.250207        0.9290\n",
              "2   0.229578  0.934182  0.212169        0.9394\n",
              "3   0.195502  0.944455  0.184831        0.9456\n",
              "4   0.170230  0.951345  0.162372        0.9512\n",
              "5   0.150714  0.956727  0.146660        0.9560\n",
              "6   0.135114  0.961145  0.131902        0.9630\n",
              "7   0.122124  0.965600  0.124907        0.9642\n",
              "8   0.110858  0.968491  0.115869        0.9670\n",
              "9   0.101244  0.971709  0.106136        0.9694\n",
              "10  0.092522  0.974364  0.101494        0.9700\n",
              "11  0.085155  0.976327  0.093035        0.9728\n",
              "12  0.078558  0.978327  0.090258        0.9750\n",
              "13  0.072697  0.979909  0.087505        0.9742\n",
              "14  0.067321  0.981818  0.080708        0.9768\n",
              "15  0.062642  0.982836  0.081198        0.9746\n",
              "16  0.058378  0.984218  0.078501        0.9770\n",
              "17  0.054780  0.985455  0.076177        0.9778\n",
              "18  0.051043  0.986600  0.073224        0.9780\n",
              "19  0.047793  0.987345  0.072010        0.9790\n",
              "20  0.044715  0.988673  0.069622        0.9792\n",
              "21  0.042195  0.989418  0.069168        0.9796\n",
              "22  0.039241  0.990145  0.068187        0.9802\n",
              "23  0.036960  0.991145  0.068739        0.9804\n",
              "24  0.034833  0.992000  0.063703        0.9818\n",
              "25  0.032813  0.992655  0.062898        0.9814\n",
              "26  0.031005  0.992855  0.064460        0.9806\n",
              "27  0.029018  0.993491  0.061974        0.9816\n",
              "28  0.027486  0.993782  0.062090        0.9812\n",
              "29  0.025874  0.994564  0.062147        0.9818\n",
              "30  0.024476  0.994982  0.059862        0.9826\n",
              "31  0.023179  0.995582  0.059645        0.9820\n",
              "32  0.021747  0.995818  0.058580        0.9834\n",
              "33  0.020562  0.996364  0.060495        0.9830\n",
              "34  0.019447  0.996582  0.058357        0.9838\n",
              "35  0.018280  0.997055  0.058538        0.9830\n",
              "36  0.017595  0.997327  0.057912        0.9818\n",
              "37  0.016641  0.997473  0.059577        0.9820\n",
              "38  0.015816  0.997600  0.058864        0.9834\n",
              "39  0.014965  0.997818  0.056988        0.9834\n",
              "40  0.014098  0.998145  0.058356        0.9838\n",
              "41  0.013494  0.998164  0.056491        0.9836"
            ]
          },
          "metadata": {},
          "execution_count": 93
        }
      ]
    },
    {
      "cell_type": "code",
      "source": [
        "histories = histories.append(pd.DataFrame(history_3.history), \n",
        "                             ignore_index=True)\n",
        "histories"
      ],
      "metadata": {
        "colab": {
          "base_uri": "https://localhost:8080/",
          "height": 1000
        },
        "id": "oTxGHup7_6an",
        "outputId": "089a91d9-83af-4ef8-ac90-41cb8dcac7ca"
      },
      "execution_count": null,
      "outputs": [
        {
          "output_type": "execute_result",
          "data": {
            "text/html": [
              "\n",
              "  <div id=\"df-77487e2a-49e7-4104-bd23-c1af24b75dec\">\n",
              "    <div class=\"colab-df-container\">\n",
              "      <div>\n",
              "<style scoped>\n",
              "    .dataframe tbody tr th:only-of-type {\n",
              "        vertical-align: middle;\n",
              "    }\n",
              "\n",
              "    .dataframe tbody tr th {\n",
              "        vertical-align: top;\n",
              "    }\n",
              "\n",
              "    .dataframe thead th {\n",
              "        text-align: right;\n",
              "    }\n",
              "</style>\n",
              "<table border=\"1\" class=\"dataframe\">\n",
              "  <thead>\n",
              "    <tr style=\"text-align: right;\">\n",
              "      <th></th>\n",
              "      <th>loss</th>\n",
              "      <th>accuracy</th>\n",
              "      <th>val_loss</th>\n",
              "      <th>val_accuracy</th>\n",
              "    </tr>\n",
              "  </thead>\n",
              "  <tbody>\n",
              "    <tr>\n",
              "      <th>0</th>\n",
              "      <td>0.577334</td>\n",
              "      <td>0.858109</td>\n",
              "      <td>0.322419</td>\n",
              "      <td>0.9048</td>\n",
              "    </tr>\n",
              "    <tr>\n",
              "      <th>1</th>\n",
              "      <td>0.280674</td>\n",
              "      <td>0.919073</td>\n",
              "      <td>0.250207</td>\n",
              "      <td>0.9290</td>\n",
              "    </tr>\n",
              "    <tr>\n",
              "      <th>2</th>\n",
              "      <td>0.229578</td>\n",
              "      <td>0.934182</td>\n",
              "      <td>0.212169</td>\n",
              "      <td>0.9394</td>\n",
              "    </tr>\n",
              "    <tr>\n",
              "      <th>3</th>\n",
              "      <td>0.195502</td>\n",
              "      <td>0.944455</td>\n",
              "      <td>0.184831</td>\n",
              "      <td>0.9456</td>\n",
              "    </tr>\n",
              "    <tr>\n",
              "      <th>4</th>\n",
              "      <td>0.170230</td>\n",
              "      <td>0.951345</td>\n",
              "      <td>0.162372</td>\n",
              "      <td>0.9512</td>\n",
              "    </tr>\n",
              "    <tr>\n",
              "      <th>5</th>\n",
              "      <td>0.150714</td>\n",
              "      <td>0.956727</td>\n",
              "      <td>0.146660</td>\n",
              "      <td>0.9560</td>\n",
              "    </tr>\n",
              "    <tr>\n",
              "      <th>6</th>\n",
              "      <td>0.135114</td>\n",
              "      <td>0.961145</td>\n",
              "      <td>0.131902</td>\n",
              "      <td>0.9630</td>\n",
              "    </tr>\n",
              "    <tr>\n",
              "      <th>7</th>\n",
              "      <td>0.122124</td>\n",
              "      <td>0.965600</td>\n",
              "      <td>0.124907</td>\n",
              "      <td>0.9642</td>\n",
              "    </tr>\n",
              "    <tr>\n",
              "      <th>8</th>\n",
              "      <td>0.110858</td>\n",
              "      <td>0.968491</td>\n",
              "      <td>0.115869</td>\n",
              "      <td>0.9670</td>\n",
              "    </tr>\n",
              "    <tr>\n",
              "      <th>9</th>\n",
              "      <td>0.101244</td>\n",
              "      <td>0.971709</td>\n",
              "      <td>0.106136</td>\n",
              "      <td>0.9694</td>\n",
              "    </tr>\n",
              "    <tr>\n",
              "      <th>10</th>\n",
              "      <td>0.092522</td>\n",
              "      <td>0.974364</td>\n",
              "      <td>0.101494</td>\n",
              "      <td>0.9700</td>\n",
              "    </tr>\n",
              "    <tr>\n",
              "      <th>11</th>\n",
              "      <td>0.085155</td>\n",
              "      <td>0.976327</td>\n",
              "      <td>0.093035</td>\n",
              "      <td>0.9728</td>\n",
              "    </tr>\n",
              "    <tr>\n",
              "      <th>12</th>\n",
              "      <td>0.078558</td>\n",
              "      <td>0.978327</td>\n",
              "      <td>0.090258</td>\n",
              "      <td>0.9750</td>\n",
              "    </tr>\n",
              "    <tr>\n",
              "      <th>13</th>\n",
              "      <td>0.072697</td>\n",
              "      <td>0.979909</td>\n",
              "      <td>0.087505</td>\n",
              "      <td>0.9742</td>\n",
              "    </tr>\n",
              "    <tr>\n",
              "      <th>14</th>\n",
              "      <td>0.067321</td>\n",
              "      <td>0.981818</td>\n",
              "      <td>0.080708</td>\n",
              "      <td>0.9768</td>\n",
              "    </tr>\n",
              "    <tr>\n",
              "      <th>15</th>\n",
              "      <td>0.062642</td>\n",
              "      <td>0.982836</td>\n",
              "      <td>0.081198</td>\n",
              "      <td>0.9746</td>\n",
              "    </tr>\n",
              "    <tr>\n",
              "      <th>16</th>\n",
              "      <td>0.058378</td>\n",
              "      <td>0.984218</td>\n",
              "      <td>0.078501</td>\n",
              "      <td>0.9770</td>\n",
              "    </tr>\n",
              "    <tr>\n",
              "      <th>17</th>\n",
              "      <td>0.054780</td>\n",
              "      <td>0.985455</td>\n",
              "      <td>0.076177</td>\n",
              "      <td>0.9778</td>\n",
              "    </tr>\n",
              "    <tr>\n",
              "      <th>18</th>\n",
              "      <td>0.051043</td>\n",
              "      <td>0.986600</td>\n",
              "      <td>0.073224</td>\n",
              "      <td>0.9780</td>\n",
              "    </tr>\n",
              "    <tr>\n",
              "      <th>19</th>\n",
              "      <td>0.047793</td>\n",
              "      <td>0.987345</td>\n",
              "      <td>0.072010</td>\n",
              "      <td>0.9790</td>\n",
              "    </tr>\n",
              "    <tr>\n",
              "      <th>20</th>\n",
              "      <td>0.044715</td>\n",
              "      <td>0.988673</td>\n",
              "      <td>0.069622</td>\n",
              "      <td>0.9792</td>\n",
              "    </tr>\n",
              "    <tr>\n",
              "      <th>21</th>\n",
              "      <td>0.042195</td>\n",
              "      <td>0.989418</td>\n",
              "      <td>0.069168</td>\n",
              "      <td>0.9796</td>\n",
              "    </tr>\n",
              "    <tr>\n",
              "      <th>22</th>\n",
              "      <td>0.039241</td>\n",
              "      <td>0.990145</td>\n",
              "      <td>0.068187</td>\n",
              "      <td>0.9802</td>\n",
              "    </tr>\n",
              "    <tr>\n",
              "      <th>23</th>\n",
              "      <td>0.036960</td>\n",
              "      <td>0.991145</td>\n",
              "      <td>0.068739</td>\n",
              "      <td>0.9804</td>\n",
              "    </tr>\n",
              "    <tr>\n",
              "      <th>24</th>\n",
              "      <td>0.034833</td>\n",
              "      <td>0.992000</td>\n",
              "      <td>0.063703</td>\n",
              "      <td>0.9818</td>\n",
              "    </tr>\n",
              "    <tr>\n",
              "      <th>25</th>\n",
              "      <td>0.032813</td>\n",
              "      <td>0.992655</td>\n",
              "      <td>0.062898</td>\n",
              "      <td>0.9814</td>\n",
              "    </tr>\n",
              "    <tr>\n",
              "      <th>26</th>\n",
              "      <td>0.031005</td>\n",
              "      <td>0.992855</td>\n",
              "      <td>0.064460</td>\n",
              "      <td>0.9806</td>\n",
              "    </tr>\n",
              "    <tr>\n",
              "      <th>27</th>\n",
              "      <td>0.029018</td>\n",
              "      <td>0.993491</td>\n",
              "      <td>0.061974</td>\n",
              "      <td>0.9816</td>\n",
              "    </tr>\n",
              "    <tr>\n",
              "      <th>28</th>\n",
              "      <td>0.027486</td>\n",
              "      <td>0.993782</td>\n",
              "      <td>0.062090</td>\n",
              "      <td>0.9812</td>\n",
              "    </tr>\n",
              "    <tr>\n",
              "      <th>29</th>\n",
              "      <td>0.025874</td>\n",
              "      <td>0.994564</td>\n",
              "      <td>0.062147</td>\n",
              "      <td>0.9818</td>\n",
              "    </tr>\n",
              "    <tr>\n",
              "      <th>30</th>\n",
              "      <td>0.024476</td>\n",
              "      <td>0.994982</td>\n",
              "      <td>0.059862</td>\n",
              "      <td>0.9826</td>\n",
              "    </tr>\n",
              "    <tr>\n",
              "      <th>31</th>\n",
              "      <td>0.023179</td>\n",
              "      <td>0.995582</td>\n",
              "      <td>0.059645</td>\n",
              "      <td>0.9820</td>\n",
              "    </tr>\n",
              "    <tr>\n",
              "      <th>32</th>\n",
              "      <td>0.021747</td>\n",
              "      <td>0.995818</td>\n",
              "      <td>0.058580</td>\n",
              "      <td>0.9834</td>\n",
              "    </tr>\n",
              "    <tr>\n",
              "      <th>33</th>\n",
              "      <td>0.020562</td>\n",
              "      <td>0.996364</td>\n",
              "      <td>0.060495</td>\n",
              "      <td>0.9830</td>\n",
              "    </tr>\n",
              "    <tr>\n",
              "      <th>34</th>\n",
              "      <td>0.019447</td>\n",
              "      <td>0.996582</td>\n",
              "      <td>0.058357</td>\n",
              "      <td>0.9838</td>\n",
              "    </tr>\n",
              "    <tr>\n",
              "      <th>35</th>\n",
              "      <td>0.018280</td>\n",
              "      <td>0.997055</td>\n",
              "      <td>0.058538</td>\n",
              "      <td>0.9830</td>\n",
              "    </tr>\n",
              "    <tr>\n",
              "      <th>36</th>\n",
              "      <td>0.017595</td>\n",
              "      <td>0.997327</td>\n",
              "      <td>0.057912</td>\n",
              "      <td>0.9818</td>\n",
              "    </tr>\n",
              "    <tr>\n",
              "      <th>37</th>\n",
              "      <td>0.016641</td>\n",
              "      <td>0.997473</td>\n",
              "      <td>0.059577</td>\n",
              "      <td>0.9820</td>\n",
              "    </tr>\n",
              "    <tr>\n",
              "      <th>38</th>\n",
              "      <td>0.015816</td>\n",
              "      <td>0.997600</td>\n",
              "      <td>0.058864</td>\n",
              "      <td>0.9834</td>\n",
              "    </tr>\n",
              "    <tr>\n",
              "      <th>39</th>\n",
              "      <td>0.014965</td>\n",
              "      <td>0.997818</td>\n",
              "      <td>0.056988</td>\n",
              "      <td>0.9834</td>\n",
              "    </tr>\n",
              "    <tr>\n",
              "      <th>40</th>\n",
              "      <td>0.014098</td>\n",
              "      <td>0.998145</td>\n",
              "      <td>0.058356</td>\n",
              "      <td>0.9838</td>\n",
              "    </tr>\n",
              "    <tr>\n",
              "      <th>41</th>\n",
              "      <td>0.013494</td>\n",
              "      <td>0.998164</td>\n",
              "      <td>0.056491</td>\n",
              "      <td>0.9836</td>\n",
              "    </tr>\n",
              "    <tr>\n",
              "      <th>42</th>\n",
              "      <td>0.012819</td>\n",
              "      <td>0.998436</td>\n",
              "      <td>0.057180</td>\n",
              "      <td>0.9838</td>\n",
              "    </tr>\n",
              "    <tr>\n",
              "      <th>43</th>\n",
              "      <td>0.012200</td>\n",
              "      <td>0.998600</td>\n",
              "      <td>0.057437</td>\n",
              "      <td>0.9834</td>\n",
              "    </tr>\n",
              "    <tr>\n",
              "      <th>44</th>\n",
              "      <td>0.011542</td>\n",
              "      <td>0.998727</td>\n",
              "      <td>0.056333</td>\n",
              "      <td>0.9848</td>\n",
              "    </tr>\n",
              "    <tr>\n",
              "      <th>45</th>\n",
              "      <td>0.011020</td>\n",
              "      <td>0.998873</td>\n",
              "      <td>0.058328</td>\n",
              "      <td>0.9836</td>\n",
              "    </tr>\n",
              "    <tr>\n",
              "      <th>46</th>\n",
              "      <td>0.010490</td>\n",
              "      <td>0.998818</td>\n",
              "      <td>0.056548</td>\n",
              "      <td>0.9844</td>\n",
              "    </tr>\n",
              "    <tr>\n",
              "      <th>47</th>\n",
              "      <td>0.009964</td>\n",
              "      <td>0.999073</td>\n",
              "      <td>0.057255</td>\n",
              "      <td>0.9838</td>\n",
              "    </tr>\n",
              "    <tr>\n",
              "      <th>48</th>\n",
              "      <td>0.009678</td>\n",
              "      <td>0.999073</td>\n",
              "      <td>0.056815</td>\n",
              "      <td>0.9830</td>\n",
              "    </tr>\n",
              "    <tr>\n",
              "      <th>49</th>\n",
              "      <td>0.009250</td>\n",
              "      <td>0.999182</td>\n",
              "      <td>0.057960</td>\n",
              "      <td>0.9834</td>\n",
              "    </tr>\n",
              "    <tr>\n",
              "      <th>50</th>\n",
              "      <td>0.008848</td>\n",
              "      <td>0.999182</td>\n",
              "      <td>0.057848</td>\n",
              "      <td>0.9844</td>\n",
              "    </tr>\n",
              "  </tbody>\n",
              "</table>\n",
              "</div>\n",
              "      <button class=\"colab-df-convert\" onclick=\"convertToInteractive('df-77487e2a-49e7-4104-bd23-c1af24b75dec')\"\n",
              "              title=\"Convert this dataframe to an interactive table.\"\n",
              "              style=\"display:none;\">\n",
              "        \n",
              "  <svg xmlns=\"http://www.w3.org/2000/svg\" height=\"24px\"viewBox=\"0 0 24 24\"\n",
              "       width=\"24px\">\n",
              "    <path d=\"M0 0h24v24H0V0z\" fill=\"none\"/>\n",
              "    <path d=\"M18.56 5.44l.94 2.06.94-2.06 2.06-.94-2.06-.94-.94-2.06-.94 2.06-2.06.94zm-11 1L8.5 8.5l.94-2.06 2.06-.94-2.06-.94L8.5 2.5l-.94 2.06-2.06.94zm10 10l.94 2.06.94-2.06 2.06-.94-2.06-.94-.94-2.06-.94 2.06-2.06.94z\"/><path d=\"M17.41 7.96l-1.37-1.37c-.4-.4-.92-.59-1.43-.59-.52 0-1.04.2-1.43.59L10.3 9.45l-7.72 7.72c-.78.78-.78 2.05 0 2.83L4 21.41c.39.39.9.59 1.41.59.51 0 1.02-.2 1.41-.59l7.78-7.78 2.81-2.81c.8-.78.8-2.07 0-2.86zM5.41 20L4 18.59l7.72-7.72 1.47 1.35L5.41 20z\"/>\n",
              "  </svg>\n",
              "      </button>\n",
              "      \n",
              "  <style>\n",
              "    .colab-df-container {\n",
              "      display:flex;\n",
              "      flex-wrap:wrap;\n",
              "      gap: 12px;\n",
              "    }\n",
              "\n",
              "    .colab-df-convert {\n",
              "      background-color: #E8F0FE;\n",
              "      border: none;\n",
              "      border-radius: 50%;\n",
              "      cursor: pointer;\n",
              "      display: none;\n",
              "      fill: #1967D2;\n",
              "      height: 32px;\n",
              "      padding: 0 0 0 0;\n",
              "      width: 32px;\n",
              "    }\n",
              "\n",
              "    .colab-df-convert:hover {\n",
              "      background-color: #E2EBFA;\n",
              "      box-shadow: 0px 1px 2px rgba(60, 64, 67, 0.3), 0px 1px 3px 1px rgba(60, 64, 67, 0.15);\n",
              "      fill: #174EA6;\n",
              "    }\n",
              "\n",
              "    [theme=dark] .colab-df-convert {\n",
              "      background-color: #3B4455;\n",
              "      fill: #D2E3FC;\n",
              "    }\n",
              "\n",
              "    [theme=dark] .colab-df-convert:hover {\n",
              "      background-color: #434B5C;\n",
              "      box-shadow: 0px 1px 3px 1px rgba(0, 0, 0, 0.15);\n",
              "      filter: drop-shadow(0px 1px 2px rgba(0, 0, 0, 0.3));\n",
              "      fill: #FFFFFF;\n",
              "    }\n",
              "  </style>\n",
              "\n",
              "      <script>\n",
              "        const buttonEl =\n",
              "          document.querySelector('#df-77487e2a-49e7-4104-bd23-c1af24b75dec button.colab-df-convert');\n",
              "        buttonEl.style.display =\n",
              "          google.colab.kernel.accessAllowed ? 'block' : 'none';\n",
              "\n",
              "        async function convertToInteractive(key) {\n",
              "          const element = document.querySelector('#df-77487e2a-49e7-4104-bd23-c1af24b75dec');\n",
              "          const dataTable =\n",
              "            await google.colab.kernel.invokeFunction('convertToInteractive',\n",
              "                                                     [key], {});\n",
              "          if (!dataTable) return;\n",
              "\n",
              "          const docLinkHtml = 'Like what you see? Visit the ' +\n",
              "            '<a target=\"_blank\" href=https://colab.research.google.com/notebooks/data_table.ipynb>data table notebook</a>'\n",
              "            + ' to learn more about interactive tables.';\n",
              "          element.innerHTML = '';\n",
              "          dataTable['output_type'] = 'display_data';\n",
              "          await google.colab.output.renderOutput(dataTable, element);\n",
              "          const docLink = document.createElement('div');\n",
              "          docLink.innerHTML = docLinkHtml;\n",
              "          element.appendChild(docLink);\n",
              "        }\n",
              "      </script>\n",
              "    </div>\n",
              "  </div>\n",
              "  "
            ],
            "text/plain": [
              "        loss  accuracy  val_loss  val_accuracy\n",
              "0   0.577334  0.858109  0.322419        0.9048\n",
              "1   0.280674  0.919073  0.250207        0.9290\n",
              "2   0.229578  0.934182  0.212169        0.9394\n",
              "3   0.195502  0.944455  0.184831        0.9456\n",
              "4   0.170230  0.951345  0.162372        0.9512\n",
              "5   0.150714  0.956727  0.146660        0.9560\n",
              "6   0.135114  0.961145  0.131902        0.9630\n",
              "7   0.122124  0.965600  0.124907        0.9642\n",
              "8   0.110858  0.968491  0.115869        0.9670\n",
              "9   0.101244  0.971709  0.106136        0.9694\n",
              "10  0.092522  0.974364  0.101494        0.9700\n",
              "11  0.085155  0.976327  0.093035        0.9728\n",
              "12  0.078558  0.978327  0.090258        0.9750\n",
              "13  0.072697  0.979909  0.087505        0.9742\n",
              "14  0.067321  0.981818  0.080708        0.9768\n",
              "15  0.062642  0.982836  0.081198        0.9746\n",
              "16  0.058378  0.984218  0.078501        0.9770\n",
              "17  0.054780  0.985455  0.076177        0.9778\n",
              "18  0.051043  0.986600  0.073224        0.9780\n",
              "19  0.047793  0.987345  0.072010        0.9790\n",
              "20  0.044715  0.988673  0.069622        0.9792\n",
              "21  0.042195  0.989418  0.069168        0.9796\n",
              "22  0.039241  0.990145  0.068187        0.9802\n",
              "23  0.036960  0.991145  0.068739        0.9804\n",
              "24  0.034833  0.992000  0.063703        0.9818\n",
              "25  0.032813  0.992655  0.062898        0.9814\n",
              "26  0.031005  0.992855  0.064460        0.9806\n",
              "27  0.029018  0.993491  0.061974        0.9816\n",
              "28  0.027486  0.993782  0.062090        0.9812\n",
              "29  0.025874  0.994564  0.062147        0.9818\n",
              "30  0.024476  0.994982  0.059862        0.9826\n",
              "31  0.023179  0.995582  0.059645        0.9820\n",
              "32  0.021747  0.995818  0.058580        0.9834\n",
              "33  0.020562  0.996364  0.060495        0.9830\n",
              "34  0.019447  0.996582  0.058357        0.9838\n",
              "35  0.018280  0.997055  0.058538        0.9830\n",
              "36  0.017595  0.997327  0.057912        0.9818\n",
              "37  0.016641  0.997473  0.059577        0.9820\n",
              "38  0.015816  0.997600  0.058864        0.9834\n",
              "39  0.014965  0.997818  0.056988        0.9834\n",
              "40  0.014098  0.998145  0.058356        0.9838\n",
              "41  0.013494  0.998164  0.056491        0.9836\n",
              "42  0.012819  0.998436  0.057180        0.9838\n",
              "43  0.012200  0.998600  0.057437        0.9834\n",
              "44  0.011542  0.998727  0.056333        0.9848\n",
              "45  0.011020  0.998873  0.058328        0.9836\n",
              "46  0.010490  0.998818  0.056548        0.9844\n",
              "47  0.009964  0.999073  0.057255        0.9838\n",
              "48  0.009678  0.999073  0.056815        0.9830\n",
              "49  0.009250  0.999182  0.057960        0.9834\n",
              "50  0.008848  0.999182  0.057848        0.9844"
            ]
          },
          "metadata": {},
          "execution_count": 94
        }
      ]
    },
    {
      "cell_type": "code",
      "source": [
        "histories.plot(figsize = (10, 10))"
      ],
      "metadata": {
        "colab": {
          "base_uri": "https://localhost:8080/",
          "height": 609
        },
        "id": "E63f1ijwADjp",
        "outputId": "3e689ade-283f-46a4-bdf0-4ee653aa0a38"
      },
      "execution_count": null,
      "outputs": [
        {
          "output_type": "execute_result",
          "data": {
            "text/plain": [
              "<matplotlib.axes._subplots.AxesSubplot at 0x7f6c98e0cc50>"
            ]
          },
          "metadata": {},
          "execution_count": 95
        },
        {
          "output_type": "display_data",
          "data": {
            "image/png": "[encoded data removed]",
            "text/plain": [
              "<Figure size 720x720 with 1 Axes>"
            ]
          },
          "metadata": {
            "needs_background": "light"
          }
        }
      ]
    },
    {
      "cell_type": "code",
      "source": [
        "data_model.evaluate(x_test, y_test)"
      ],
      "metadata": {
        "colab": {
          "base_uri": "https://localhost:8080/"
        },
        "id": "P6RcD9NPAIfp",
        "outputId": "f02ffa79-f893-4306-e183-83936f269f69"
      },
      "execution_count": null,
      "outputs": [
        {
          "output_type": "stream",
          "name": "stdout",
          "text": [
            "313/313 [==============================] - 1s 3ms/step - loss: 0.0661 - accuracy: 0.9806\n"
          ]
        },
        {
          "output_type": "execute_result",
          "data": {
            "text/plain": [
              "[0.06613769382238388, 0.9805999994277954]"
            ]
          },
          "metadata": {},
          "execution_count": 96
        }
      ]
    },
    {
      "cell_type": "code",
      "source": [
        "# Predicting other cases\n",
        "plt.imshow(x_train_full[0].reshape(28, 28), cmap = 'binary')"
      ],
      "metadata": {
        "colab": {
          "base_uri": "https://localhost:8080/",
          "height": 282
        },
        "id": "VRRu04ptCV8k",
        "outputId": "230e9458-6958-42d7-f423-d01ac7b9da3d"
      },
      "execution_count": null,
      "outputs": [
        {
          "output_type": "execute_result",
          "data": {
            "text/plain": [
              "<matplotlib.image.AxesImage at 0x7f6c1986bfd0>"
            ]
          },
          "metadata": {},
          "execution_count": 97
        },
        {
          "output_type": "display_data",
          "data": {
            "image/png": "[encoded data removed]",
            "text/plain": [
              "<Figure size 432x288 with 1 Axes>"
            ]
          },
          "metadata": {
            "needs_background": "light"
          }
        }
      ]
    },
    {
      "cell_type": "markdown",
      "source": [
        ""
      ],
      "metadata": {
        "id": "eBuoztUoCq4a"
      }
    },
    {
      "cell_type": "code",
      "source": [
        "data_model.predict(x_train_full[:1])"
      ],
      "metadata": {
        "colab": {
          "base_uri": "https://localhost:8080/"
        },
        "id": "ui_onpVTCrZJ",
        "outputId": "4cb92158-36b2-4621-bc36-3c08c5eb4d4c"
      },
      "execution_count": null,
      "outputs": [
        {
          "output_type": "execute_result",
          "data": {
            "text/plain": [
              "array([[4.7159303e-12, 2.8540811e-10, 1.6129713e-08, 4.3988451e-03,\n",
              "        1.7995217e-17, 9.9560118e-01, 2.2712914e-14, 1.7634803e-10,\n",
              "        4.0121129e-11, 6.4133067e-11]], dtype=float32)"
            ]
          },
          "metadata": {},
          "execution_count": 98
        }
      ]
    },
    {
      "cell_type": "code",
      "source": [
        "plt.bar(range(10), data_model.predict(x_train_full[:1])[0])"
      ],
      "metadata": {
        "colab": {
          "base_uri": "https://localhost:8080/",
          "height": 282
        },
        "id": "fLovzq6OCrb9",
        "outputId": "20ad66db-9599-458c-9272-aaa7e53092e4"
      },
      "execution_count": null,
      "outputs": [
        {
          "output_type": "execute_result",
          "data": {
            "text/plain": [
              "<BarContainer object of 10 artists>"
            ]
          },
          "metadata": {},
          "execution_count": 99
        },
        {
          "output_type": "display_data",
          "data": {
            "image/png": "[encoded data removed]",
            "text/plain": [
              "<Figure size 432x288 with 1 Axes>"
            ]
          },
          "metadata": {
            "needs_background": "light"
          }
        }
      ]
    },
    {
      "cell_type": "code",
      "source": [
        "predictions = np.argmax(data_model.predict(x_test), axis = 1)\n",
        "predictions"
      ],
      "metadata": {
        "colab": {
          "base_uri": "https://localhost:8080/"
        },
        "id": "sh2EZp9ZCre3",
        "outputId": "e7d5da65-7984-4d49-bcde-b3817e24f50c"
      },
      "execution_count": null,
      "outputs": [
        {
          "output_type": "execute_result",
          "data": {
            "text/plain": [
              "array([7, 2, 1, ..., 4, 5, 6])"
            ]
          },
          "metadata": {},
          "execution_count": 100
        }
      ]
    },
    {
      "cell_type": "code",
      "source": [
        "# Now I will find some misclassified images and display them here\n",
        "misclassified = []\n",
        "index = 0\n",
        "for target, predict in zip(y_test, predictions):\n",
        "  if target != predict:\n",
        "    misclassified.append(index)\n",
        "  index += 1\n",
        "\n",
        "# This should be the total number of misclassified images\n",
        "len(misclassified)\n",
        "\n",
        "# We will show 7 misclassfied images\n",
        "plt.figure(figsize=(25,4))\n",
        "for index in range(7):\n",
        "  plt.subplot(1, 7, index + 1)\n",
        "  plt.imshow(x_test[misclassified[index]].reshape(28,28), cmap='binary')\n",
        "  plt.axis('off')\n",
        "  plt.title(f'Target: {classes[y_test[misclassified[index]]]}    Predicted: {classes[predictions[misclassified[index]]]}', fontsize=14)\n",
        "\n",
        "plt.show()"
      ],
      "metadata": {
        "colab": {
          "base_uri": "https://localhost:8080/",
          "height": 131
        },
        "id": "Gt7W6FTECriB",
        "outputId": "205c2e73-9eed-471a-899f-fb7d1ba652a3"
      },
      "execution_count": null,
      "outputs": [
        {
          "output_type": "display_data",
          "data": {
            "image/png": "[encoded data removed]",
            "text/plain": [
              "<Figure size 1800x288 with 7 Axes>"
            ]
          },
          "metadata": {
            "needs_background": "light"
          }
        }
      ]
    },
    {
      "cell_type": "code",
      "source": [
        "# Confusion Matrix\n",
        "matrix = confusion_matrix(y_test, np.argmax(data_model.predict(x_test), axis = -1))\n",
        "matrix_dataframe = pd.DataFrame(matrix, index = classes, columns = classes)\n",
        "plt.figure(figsize = (10, 10))\n",
        "sns.heatmap(matrix_dataframe, annot = True)\n",
        "plt.ylabel('True class', color = 'green')\n",
        "plt.xlabel('Predicted class', color = 'green')\n",
        "plt.tick_params(color = 'green', labelcolor = 'green')\n",
        "plt.show()"
      ],
      "metadata": {
        "colab": {
          "base_uri": "https://localhost:8080/",
          "height": 606
        },
        "id": "8zY01AwGu2oL",
        "outputId": "60a6f551-2cdf-4d2d-9d33-7fbed81b4f9d"
      },
      "execution_count": null,
      "outputs": [
        {
          "output_type": "display_data",
          "data": {
            "image/png": "[encoded data removed]",
            "text/plain": [
              "<Figure size 720x720 with 2 Axes>"
            ]
          },
          "metadata": {
            "needs_background": "light"
          }
        }
      ]
    },
    {
      "cell_type": "code",
      "source": [
        "data_model.save('digits')"
      ],
      "metadata": {
        "colab": {
          "base_uri": "https://localhost:8080/"
        },
        "id": "h5MyVUJeu3Is",
        "outputId": "9ea468c3-8368-42d0-b553-cb36a8b8359a"
      },
      "execution_count": null,
      "outputs": [
        {
          "output_type": "stream",
          "name": "stderr",
          "text": [
            "WARNING:absl:Function `_wrapped_model` contains input name(s) 1-hidden-layer_input with unsupported characters which will be renamed to hidden_layer_input in the SavedModel.\n"
          ]
        },
        {
          "output_type": "stream",
          "name": "stdout",
          "text": [
            "INFO:tensorflow:Assets written to: digits/assets\n"
          ]
        },
        {
          "output_type": "stream",
          "name": "stderr",
          "text": [
            "INFO:tensorflow:Assets written to: digits/assets\n"
          ]
        }
      ]
    },
    {
      "cell_type": "markdown",
      "source": [
        "# Part 2\n",
        "\n",
        "1.   List item\n",
        "2.   List item\n",
        "\n"
      ],
      "metadata": {
        "id": "gzTSby1M_lC1"
      }
    },
    {
      "cell_type": "code",
      "source": [
        "# Clear weights to retrain the NN\n",
        "keras.backend.clear_session()\n",
        "np.random.seed(40)\n",
        "tf.random.set_seed(40)\n",
        "\n",
        "\n",
        "# Pull the data set\n",
        "mnist_digit_dataset = keras.datasets.mnist\n",
        "(x_train_full, y_train_full), (x_test, y_test) = mnist_digit_dataset.load_data()"
      ],
      "metadata": {
        "id": "BOsEpts_u3Ll"
      },
      "execution_count": null,
      "outputs": []
    },
    {
      "cell_type": "code",
      "execution_count": null,
      "metadata": {
        "id": "LO-RNQILSQfE"
      },
      "outputs": [],
      "source": [
        "# Reshape the data to 1 dimension\n",
        "x_train_full = x_train_full.reshape(-1, 784)\n",
        "x_test = x_test.reshape(-1, 784)\n",
        "\n",
        "# Create validation dataset\n",
        "x_train_train, x_train_validate, y_train_train, y_train_validate = train_test_split(x_train_full, y_train_full, test_size = 5000)"
      ]
    },
    {
      "cell_type": "code",
      "source": [
        "\n",
        "# Retraintng with more  neurons and hidden layers\n",
        "data_model_2 = keras.models.Sequential()\n",
        "data_model_2.add(keras.layers.Dense(600, activation = \"relu\", input_shape = (784,), name = \"1-hidden-layer\"))\n",
        "data_model_2.add(keras.layers.Dense(600, activation = \"relu\", input_shape = (784,), name = \"2-hidden-layer\"))\n",
        "data_model_2.add(keras.layers.Dense(600, activation = \"relu\", input_shape = (784,), name = \"3-hidden-layer\"))\n",
        "data_model_2.add(keras.layers.Dense(600, activation = \"relu\", input_shape = (784,), name = \"4-hidden-layer\"))\n",
        "data_model_2.add(keras.layers.Dense(600, activation = \"relu\", input_shape = (784,), name = \"5-hidden-layer\"))\n",
        "\n",
        "data_model_2.add(keras.layers.Dense(10, activation=\"softmax\", name=\"Output_Layer\"))\n"
      ],
      "metadata": {
        "id": "i-9KpkGO7k1q"
      },
      "execution_count": null,
      "outputs": []
    },
    {
      "cell_type": "code",
      "source": [
        "data_model_2.summary()"
      ],
      "metadata": {
        "colab": {
          "base_uri": "https://localhost:8080/"
        },
        "outputId": "72fb9ba5-d752-4825-bb89-472963978280",
        "id": "q6Xe9MX677mN"
      },
      "execution_count": null,
      "outputs": [
        {
          "output_type": "stream",
          "name": "stdout",
          "text": [
            "Model: \"sequential\"\n",
            "_________________________________________________________________\n",
            " Layer (type)                Output Shape              Param #   \n",
            "=================================================================\n",
            " 1-hidden-layer (Dense)      (None, 600)               471000    \n",
            "                                                                 \n",
            " 2-hidden-layer (Dense)      (None, 600)               360600    \n",
            "                                                                 \n",
            " 3-hidden-layer (Dense)      (None, 600)               360600    \n",
            "                                                                 \n",
            " 4-hidden-layer (Dense)      (None, 600)               360600    \n",
            "                                                                 \n",
            " 5-hidden-layer (Dense)      (None, 600)               360600    \n",
            "                                                                 \n",
            " Output_Layer (Dense)        (None, 10)                6010      \n",
            "                                                                 \n",
            "=================================================================\n",
            "Total params: 1,919,410\n",
            "Trainable params: 1,919,410\n",
            "Non-trainable params: 0\n",
            "_________________________________________________________________\n"
          ]
        }
      ]
    },
    {
      "cell_type": "code",
      "source": [
        "keras.utils.plot_model(data_model_2, show_shapes = True)"
      ],
      "metadata": {
        "colab": {
          "base_uri": "https://localhost:8080/",
          "height": 754
        },
        "id": "i9_Z-Rw88b7x",
        "outputId": "1c57c217-8fa5-477d-c880-a589d160778c"
      },
      "execution_count": null,
      "outputs": [
        {
          "output_type": "execute_result",
          "data": {
            "image/png": "[encoded data removed]",
            "text/plain": [
              "<IPython.core.display.Image object>"
            ]
          },
          "metadata": {},
          "execution_count": 118
        }
      ]
    },
    {
      "cell_type": "code",
      "source": [
        "# Compile the model\n",
        "data_model_2.compile(loss = \"sparse_categorical_crossentropy\", optimizer = \"sgd\", metrics = [\"accuracy\"])"
      ],
      "metadata": {
        "id": "ZjJZzxue8b-W"
      },
      "execution_count": null,
      "outputs": []
    },
    {
      "cell_type": "code",
      "source": [
        "data_model_2.layers[0].get_weights()"
      ],
      "metadata": {
        "colab": {
          "base_uri": "https://localhost:8080/"
        },
        "id": "dQlfAN9TAOWp",
        "outputId": "5952f965-c1be-4878-fff0-a26a68075314"
      },
      "execution_count": null,
      "outputs": [
        {
          "output_type": "execute_result",
          "data": {
            "text/plain": [
              "[array([[ 5.9430748e-03,  3.4092836e-02,  4.4280067e-02, ...,\n",
              "         -1.3201758e-02,  5.5322036e-02,  2.2126988e-02],\n",
              "        [ 6.0617998e-03,  3.9425097e-02,  5.6365140e-02, ...,\n",
              "          7.6366514e-03, -3.2892887e-02,  2.3508675e-02],\n",
              "        [ 1.5367724e-02,  2.4426512e-02, -6.9652423e-03, ...,\n",
              "         -4.7589626e-02, -4.1312702e-02,  3.3355355e-02],\n",
              "        ...,\n",
              "        [-3.8037036e-02, -6.4371154e-02,  5.0834320e-02, ...,\n",
              "         -1.8023014e-02, -5.8141824e-02,  4.7564209e-02],\n",
              "        [-2.9267170e-02,  5.8803938e-02, -2.9027365e-02, ...,\n",
              "         -3.2887548e-02,  1.1502184e-02, -1.1242926e-05],\n",
              "        [ 3.7818179e-03,  2.4663337e-02, -2.8662369e-02, ...,\n",
              "         -3.8556755e-05,  6.3709907e-02, -6.1317995e-02]], dtype=float32),\n",
              " array([0., 0., 0., 0., 0., 0., 0., 0., 0., 0., 0., 0., 0., 0., 0., 0., 0.,\n",
              "        0., 0., 0., 0., 0., 0., 0., 0., 0., 0., 0., 0., 0., 0., 0., 0., 0.,\n",
              "        0., 0., 0., 0., 0., 0., 0., 0., 0., 0., 0., 0., 0., 0., 0., 0., 0.,\n",
              "        0., 0., 0., 0., 0., 0., 0., 0., 0., 0., 0., 0., 0., 0., 0., 0., 0.,\n",
              "        0., 0., 0., 0., 0., 0., 0., 0., 0., 0., 0., 0., 0., 0., 0., 0., 0.,\n",
              "        0., 0., 0., 0., 0., 0., 0., 0., 0., 0., 0., 0., 0., 0., 0., 0., 0.,\n",
              "        0., 0., 0., 0., 0., 0., 0., 0., 0., 0., 0., 0., 0., 0., 0., 0., 0.,\n",
              "        0., 0., 0., 0., 0., 0., 0., 0., 0., 0., 0., 0., 0., 0., 0., 0., 0.,\n",
              "        0., 0., 0., 0., 0., 0., 0., 0., 0., 0., 0., 0., 0., 0., 0., 0., 0.,\n",
              "        0., 0., 0., 0., 0., 0., 0., 0., 0., 0., 0., 0., 0., 0., 0., 0., 0.,\n",
              "        0., 0., 0., 0., 0., 0., 0., 0., 0., 0., 0., 0., 0., 0., 0., 0., 0.,\n",
              "        0., 0., 0., 0., 0., 0., 0., 0., 0., 0., 0., 0., 0., 0., 0., 0., 0.,\n",
              "        0., 0., 0., 0., 0., 0., 0., 0., 0., 0., 0., 0., 0., 0., 0., 0., 0.,\n",
              "        0., 0., 0., 0., 0., 0., 0., 0., 0., 0., 0., 0., 0., 0., 0., 0., 0.,\n",
              "        0., 0., 0., 0., 0., 0., 0., 0., 0., 0., 0., 0., 0., 0., 0., 0., 0.,\n",
              "        0., 0., 0., 0., 0., 0., 0., 0., 0., 0., 0., 0., 0., 0., 0., 0., 0.,\n",
              "        0., 0., 0., 0., 0., 0., 0., 0., 0., 0., 0., 0., 0., 0., 0., 0., 0.,\n",
              "        0., 0., 0., 0., 0., 0., 0., 0., 0., 0., 0., 0., 0., 0., 0., 0., 0.,\n",
              "        0., 0., 0., 0., 0., 0., 0., 0., 0., 0., 0., 0., 0., 0., 0., 0., 0.,\n",
              "        0., 0., 0., 0., 0., 0., 0., 0., 0., 0., 0., 0., 0., 0., 0., 0., 0.,\n",
              "        0., 0., 0., 0., 0., 0., 0., 0., 0., 0., 0., 0., 0., 0., 0., 0., 0.,\n",
              "        0., 0., 0., 0., 0., 0., 0., 0., 0., 0., 0., 0., 0., 0., 0., 0., 0.,\n",
              "        0., 0., 0., 0., 0., 0., 0., 0., 0., 0., 0., 0., 0., 0., 0., 0., 0.,\n",
              "        0., 0., 0., 0., 0., 0., 0., 0., 0., 0., 0., 0., 0., 0., 0., 0., 0.,\n",
              "        0., 0., 0., 0., 0., 0., 0., 0., 0., 0., 0., 0., 0., 0., 0., 0., 0.,\n",
              "        0., 0., 0., 0., 0., 0., 0., 0., 0., 0., 0., 0., 0., 0., 0., 0., 0.,\n",
              "        0., 0., 0., 0., 0., 0., 0., 0., 0., 0., 0., 0., 0., 0., 0., 0., 0.,\n",
              "        0., 0., 0., 0., 0., 0., 0., 0., 0., 0., 0., 0., 0., 0., 0., 0., 0.,\n",
              "        0., 0., 0., 0., 0., 0., 0., 0., 0., 0., 0., 0., 0., 0., 0., 0., 0.,\n",
              "        0., 0., 0., 0., 0., 0., 0., 0., 0., 0., 0., 0., 0., 0., 0., 0., 0.,\n",
              "        0., 0., 0., 0., 0., 0., 0., 0., 0., 0., 0., 0., 0., 0., 0., 0., 0.,\n",
              "        0., 0., 0., 0., 0., 0., 0., 0., 0., 0., 0., 0., 0., 0., 0., 0., 0.,\n",
              "        0., 0., 0., 0., 0., 0., 0., 0., 0., 0., 0., 0., 0., 0., 0., 0., 0.,\n",
              "        0., 0., 0., 0., 0., 0., 0., 0., 0., 0., 0., 0., 0., 0., 0., 0., 0.,\n",
              "        0., 0., 0., 0., 0., 0., 0., 0., 0., 0., 0., 0., 0., 0., 0., 0., 0.,\n",
              "        0., 0., 0., 0., 0.], dtype=float32)]"
            ]
          },
          "metadata": {},
          "execution_count": 120
        }
      ]
    },
    {
      "cell_type": "code",
      "source": [
        "# Fit the model\n",
        "history = data_model_2.fit(x_train_train, y_train_train, epochs = 30, batch_size = 32, \n",
        "                         validation_data = (x_train_validate, y_train_validate))"
      ],
      "metadata": {
        "colab": {
          "base_uri": "https://localhost:8080/"
        },
        "id": "IlwqZp3a8cBI",
        "outputId": "f44bb44e-a304-4ddc-c09a-45516a84c4c8"
      },
      "execution_count": null,
      "outputs": [
        {
          "output_type": "stream",
          "name": "stdout",
          "text": [
            "Epoch 1/30\n",
            "1719/1719 [==============================] - 31s 18ms/step - loss: 0.6390 - accuracy: 0.8273 - val_loss: 0.3217 - val_accuracy: 0.8996\n",
            "Epoch 2/30\n",
            "1719/1719 [==============================] - 30s 18ms/step - loss: 0.2244 - accuracy: 0.9350 - val_loss: 0.1794 - val_accuracy: 0.9466\n",
            "Epoch 3/30\n",
            "1719/1719 [==============================] - 31s 18ms/step - loss: 0.1604 - accuracy: 0.9530 - val_loss: 0.1438 - val_accuracy: 0.9588\n",
            "Epoch 4/30\n",
            "1719/1719 [==============================] - 31s 18ms/step - loss: 0.1254 - accuracy: 0.9623 - val_loss: 0.1173 - val_accuracy: 0.9658\n",
            "Epoch 5/30\n",
            "1719/1719 [==============================] - 31s 18ms/step - loss: 0.1014 - accuracy: 0.9699 - val_loss: 0.1038 - val_accuracy: 0.9714\n",
            "Epoch 6/30\n",
            "1719/1719 [==============================] - 31s 18ms/step - loss: 0.0841 - accuracy: 0.9749 - val_loss: 0.0929 - val_accuracy: 0.9754\n",
            "Epoch 7/30\n",
            "1719/1719 [==============================] - 31s 18ms/step - loss: 0.0704 - accuracy: 0.9791 - val_loss: 0.0955 - val_accuracy: 0.9710\n",
            "Epoch 8/30\n",
            "1719/1719 [==============================] - 30s 18ms/step - loss: 0.0589 - accuracy: 0.9824 - val_loss: 0.0836 - val_accuracy: 0.9756\n",
            "Epoch 9/30\n",
            "1719/1719 [==============================] - 31s 18ms/step - loss: 0.0497 - accuracy: 0.9854 - val_loss: 0.0797 - val_accuracy: 0.9760\n",
            "Epoch 10/30\n",
            "1719/1719 [==============================] - 30s 18ms/step - loss: 0.0413 - accuracy: 0.9878 - val_loss: 0.0705 - val_accuracy: 0.9796\n",
            "Epoch 11/30\n",
            "1719/1719 [==============================] - 31s 18ms/step - loss: 0.0345 - accuracy: 0.9906 - val_loss: 0.0717 - val_accuracy: 0.9798\n",
            "Epoch 12/30\n",
            "1719/1719 [==============================] - 31s 18ms/step - loss: 0.0285 - accuracy: 0.9924 - val_loss: 0.0726 - val_accuracy: 0.9776\n",
            "Epoch 13/30\n",
            "1719/1719 [==============================] - 31s 18ms/step - loss: 0.0242 - accuracy: 0.9936 - val_loss: 0.0671 - val_accuracy: 0.9808\n",
            "Epoch 14/30\n",
            "1719/1719 [==============================] - 31s 18ms/step - loss: 0.0190 - accuracy: 0.9955 - val_loss: 0.0715 - val_accuracy: 0.9796\n",
            "Epoch 15/30\n",
            "1719/1719 [==============================] - 32s 18ms/step - loss: 0.0154 - accuracy: 0.9965 - val_loss: 0.0668 - val_accuracy: 0.9800\n",
            "Epoch 16/30\n",
            "1719/1719 [==============================] - 32s 19ms/step - loss: 0.0132 - accuracy: 0.9970 - val_loss: 0.0722 - val_accuracy: 0.9808\n",
            "Epoch 17/30\n",
            "1719/1719 [==============================] - 32s 18ms/step - loss: 0.0099 - accuracy: 0.9981 - val_loss: 0.0675 - val_accuracy: 0.9822\n",
            "Epoch 18/30\n",
            "1719/1719 [==============================] - 31s 18ms/step - loss: 0.0073 - accuracy: 0.9987 - val_loss: 0.0692 - val_accuracy: 0.9826\n",
            "Epoch 19/30\n",
            "1719/1719 [==============================] - 32s 19ms/step - loss: 0.0058 - accuracy: 0.9993 - val_loss: 0.0648 - val_accuracy: 0.9840\n",
            "Epoch 20/30\n",
            "1719/1719 [==============================] - 31s 18ms/step - loss: 0.0053 - accuracy: 0.9992 - val_loss: 0.0662 - val_accuracy: 0.9828\n",
            "Epoch 21/30\n",
            "1719/1719 [==============================] - 31s 18ms/step - loss: 0.0036 - accuracy: 0.9997 - val_loss: 0.0778 - val_accuracy: 0.9802\n",
            "Epoch 22/30\n",
            "1719/1719 [==============================] - 31s 18ms/step - loss: 0.0028 - accuracy: 0.9999 - val_loss: 0.0693 - val_accuracy: 0.9832\n",
            "Epoch 23/30\n",
            "1719/1719 [==============================] - 31s 18ms/step - loss: 0.0022 - accuracy: 0.9999 - val_loss: 0.0677 - val_accuracy: 0.9844\n",
            "Epoch 24/30\n",
            "1719/1719 [==============================] - 31s 18ms/step - loss: 0.0019 - accuracy: 0.9999 - val_loss: 0.0678 - val_accuracy: 0.9838\n",
            "Epoch 25/30\n",
            "1719/1719 [==============================] - 31s 18ms/step - loss: 0.0015 - accuracy: 1.0000 - val_loss: 0.0700 - val_accuracy: 0.9838\n",
            "Epoch 26/30\n",
            "1719/1719 [==============================] - 31s 18ms/step - loss: 0.0013 - accuracy: 1.0000 - val_loss: 0.0696 - val_accuracy: 0.9844\n",
            "Epoch 27/30\n",
            "1719/1719 [==============================] - 31s 18ms/step - loss: 0.0012 - accuracy: 1.0000 - val_loss: 0.0703 - val_accuracy: 0.9846\n",
            "Epoch 28/30\n",
            "1719/1719 [==============================] - 31s 18ms/step - loss: 0.0010 - accuracy: 1.0000 - val_loss: 0.0704 - val_accuracy: 0.9850\n",
            "Epoch 29/30\n",
            "1719/1719 [==============================] - 32s 18ms/step - loss: 9.0859e-04 - accuracy: 1.0000 - val_loss: 0.0710 - val_accuracy: 0.9854\n",
            "Epoch 30/30\n",
            "1719/1719 [==============================] - 31s 18ms/step - loss: 8.4706e-04 - accuracy: 1.0000 - val_loss: 0.0727 - val_accuracy: 0.9844\n"
          ]
        }
      ]
    },
    {
      "cell_type": "code",
      "source": [
        "pd.DataFrame(history.history)\n",
        "pd.DataFrame(history.history).plot(figsize = (10, 10))"
      ],
      "metadata": {
        "colab": {
          "base_uri": "https://localhost:8080/",
          "height": 609
        },
        "id": "uDa1SFiv8cEK",
        "outputId": "e4bf2c51-2580-4a54-d5e7-ec2bb843129b"
      },
      "execution_count": null,
      "outputs": [
        {
          "output_type": "execute_result",
          "data": {
            "text/plain": [
              "<matplotlib.axes._subplots.AxesSubplot at 0x7f6c16b69110>"
            ]
          },
          "metadata": {},
          "execution_count": 111
        },
        {
          "output_type": "display_data",
          "data": {
            "image/png": "[encoded data removed]",
            "text/plain": [
              "<Figure size 720x720 with 1 Axes>"
            ]
          },
          "metadata": {
            "needs_background": "light"
          }
        }
      ]
    },
    {
      "cell_type": "code",
      "source": [
        "# We have reached pretty high accuracy levels in just one training. We will train once more for completeness\n",
        "history_2 = data_model_2.fit(x_train_train, y_train_train, epochs=10, validation_data=(x_train_validate, y_train_validate))"
      ],
      "metadata": {
        "colab": {
          "base_uri": "https://localhost:8080/"
        },
        "id": "XCG1dJrR95c1",
        "outputId": "ccdc5afb-c6a2-433e-ea35-c291dda4f7a6"
      },
      "execution_count": null,
      "outputs": [
        {
          "output_type": "stream",
          "name": "stdout",
          "text": [
            "Epoch 1/10\n",
            "1719/1719 [==============================] - 33s 19ms/step - loss: 7.5767e-04 - accuracy: 1.0000 - val_loss: 0.0725 - val_accuracy: 0.9840\n",
            "Epoch 2/10\n",
            "1719/1719 [==============================] - 31s 18ms/step - loss: 7.1868e-04 - accuracy: 1.0000 - val_loss: 0.0734 - val_accuracy: 0.9848\n",
            "Epoch 3/10\n",
            "1719/1719 [==============================] - 31s 18ms/step - loss: 6.5167e-04 - accuracy: 1.0000 - val_loss: 0.0740 - val_accuracy: 0.9848\n",
            "Epoch 4/10\n",
            "1719/1719 [==============================] - 31s 18ms/step - loss: 6.1278e-04 - accuracy: 1.0000 - val_loss: 0.0737 - val_accuracy: 0.9844\n",
            "Epoch 5/10\n",
            "1719/1719 [==============================] - 31s 18ms/step - loss: 5.7078e-04 - accuracy: 1.0000 - val_loss: 0.0751 - val_accuracy: 0.9844\n",
            "Epoch 6/10\n",
            "1719/1719 [==============================] - 31s 18ms/step - loss: 5.3970e-04 - accuracy: 1.0000 - val_loss: 0.0750 - val_accuracy: 0.9842\n",
            "Epoch 7/10\n",
            "1719/1719 [==============================] - 32s 18ms/step - loss: 5.0764e-04 - accuracy: 1.0000 - val_loss: 0.0758 - val_accuracy: 0.9848\n",
            "Epoch 8/10\n",
            "1719/1719 [==============================] - 31s 18ms/step - loss: 4.7947e-04 - accuracy: 1.0000 - val_loss: 0.0759 - val_accuracy: 0.9852\n",
            "Epoch 9/10\n",
            "1719/1719 [==============================] - 31s 18ms/step - loss: 4.5095e-04 - accuracy: 1.0000 - val_loss: 0.0761 - val_accuracy: 0.9850\n",
            "Epoch 10/10\n",
            "1719/1719 [==============================] - 31s 18ms/step - loss: 4.2892e-04 - accuracy: 1.0000 - val_loss: 0.0770 - val_accuracy: 0.9848\n"
          ]
        }
      ]
    },
    {
      "cell_type": "code",
      "source": [
        "data_model_2.evaluate(x_test, y_test)"
      ],
      "metadata": {
        "colab": {
          "base_uri": "https://localhost:8080/"
        },
        "id": "KV3vHo1jPgaJ",
        "outputId": "bb44c9fb-6017-4034-cd8a-fe0890700f1c"
      },
      "execution_count": null,
      "outputs": [
        {
          "output_type": "stream",
          "name": "stdout",
          "text": [
            "313/313 [==============================] - 2s 7ms/step - loss: 20.9090 - accuracy: 0.9770\n"
          ]
        },
        {
          "output_type": "execute_result",
          "data": {
            "text/plain": [
              "[20.909011840820312, 0.9769999980926514]"
            ]
          },
          "metadata": {},
          "execution_count": 133
        }
      ]
    },
    {
      "cell_type": "code",
      "source": [
        "histories = pd.Dataframe(history.history)\n",
        "histories.append(pd.DataFrame(history_2.history), ignore_index = True)"
      ],
      "metadata": {
        "id": "xobvoYx2A_XD"
      },
      "execution_count": null,
      "outputs": []
    },
    {
      "cell_type": "code",
      "source": [
        "# Now I will find some misclassified images and display them here\n",
        "misclassified = []\n",
        "index = 0\n",
        "for target, predict in zip(y_test, predictions):\n",
        "  if target != predict:\n",
        "    misclassified.append(index)\n",
        "  index += 1\n",
        "\n",
        "# This should be the total number of misclassified images\n",
        "len(misclassified)\n",
        "\n",
        "# We will show 7 misclassfied images\n",
        "plt.figure(figsize=(25,4))\n",
        "for index in range(7):\n",
        "  plt.subplot(1, 7, index + 1)\n",
        "  plt.imshow(x_test[misclassified[index]].reshape(28,28), cmap='binary')\n",
        "  plt.axis('off')\n",
        "  plt.title(f'Target: {classes[y_test[misclassified[index]]]}    Predicted: {classes[predictions[misclassified[index]]]}', fontsize=14)\n",
        "\n",
        "plt.show()"
      ],
      "metadata": {
        "colab": {
          "base_uri": "https://localhost:8080/",
          "height": 131
        },
        "id": "LOi1j981Bb8D",
        "outputId": "d18b0ee7-0849-4aac-f345-d936211c16ab"
      },
      "execution_count": null,
      "outputs": [
        {
          "output_type": "display_data",
          "data": {
            "image/png": "[encoded data removed]",
            "text/plain": [
              "<Figure size 1800x288 with 7 Axes>"
            ]
          },
          "metadata": {
            "needs_background": "light"
          }
        }
      ]
    },
    {
      "cell_type": "markdown",
      "source": [
        "# Part 3\n",
        "\n",
        "The model built in Part Two techinically worked best. After running once, the model in Part 1 acheived about 0.96 accuracy, which is pretty good. After retraining, it usually hits 0.98 or 0.99. The second model constructed in Part Two pretty much always hits 0.99, and sometimes it rounds off to 1.0. This is really nice, but it takes significantly longer to run than the model in Part 1 because it has five hidden layers, each with 600 neurons. \n",
        "\n",
        "In this context though, it may not really matter which model trained faster as long as we are acheiving the highest accuracy levels. These are not necessarily algorithms that need to be run all the time. \n",
        "\n",
        "In practice, I would probably choose some middle ground between the two models to acheive the best model possible. "
      ],
      "metadata": {
        "id": "jmK5DQwg_qL4"
      }
    }
  ],
  "metadata": {
    "accelerator": "GPU",
    "colab": {
      "name": "Homework_1.ipynb",
      "provenance": [],
      "include_colab_link": true
    },
    "kernelspec": {
      "display_name": "Python 3",
      "name": "python3"
    }
  },
  "nbformat": 4,
  "nbformat_minor": 0
}