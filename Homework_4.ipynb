{
  "cells": [
    {
      "cell_type": "markdown",
      "metadata": {
        "id": "view-in-github",
        "colab_type": "text"
      },
      "source": [
        "<a href=\"https://colab.research.google.com/github/madz23/madz_nnprojects/blob/main/Homework_4.ipynb\" target=\"_parent\"><img src=\"https://colab.research.google.com/assets/colab-badge.svg\" alt=\"Open In Colab\"/></a>"
      ]
    },
    {
      "cell_type": "markdown",
      "metadata": {
        "id": "YKcu5pJ0cwHg"
      },
      "source": [
        "# Homework 4: CIFAR-10\n",
        "Applied Neural Networks\n",
        "\n",
        "Madison May\n",
        "\n",
        "11 April 2022\n"
      ]
    },
    {
      "cell_type": "markdown",
      "metadata": {
        "id": "gple3Yuxem1H"
      },
      "source": [
        "## Create a CNN to classify CIFAR-10\n",
        "Use the [CIFAR-10](https://www.cs.toronto.edu/~kriz/cifar.html) dataset.\n",
        "\n",
        "You can utilize `keras.datasets.cifar10.load_data()` to import the dataset as `numpy ndarrays` or `tfds.load('cifar10')` to import the dataset as `tf.data.Dataset`.\n",
        "\n",
        "**You must utilize transfer learning and data augmentation.** Your grade will depend on the quality of your best model. Discuss the different models you tried. *Include all model parameters, accuracy, a confusion matrix, and sample misclassified images.*\n",
        "\n",
        "I suggest using data pipelines to avoid a RAM resource exhaustion error. They can be implemented fairly easily in one of two ways: \n",
        "  1. Utilize a data_augmentation function and Dataset.map(data_augmentation) to augment your training tf.data.Dataset (will require `tf.data.Dataset`s), or\n",
        "  2. Utilize Keras ImageDataGenerator, using the ImageDataGenerator to also do all preprocessing necessary and batch images (will require `np ndarray`s)."
      ]
    },
    {
      "cell_type": "code",
      "execution_count": 1,
      "metadata": {
        "id": "fRnkLqYRInRf",
        "colab": {
          "base_uri": "https://localhost:8080/"
        },
        "outputId": "e01ea384-6e73-403e-b6de-eda547b5e2d1"
      },
      "outputs": [
        {
          "output_type": "stream",
          "name": "stdout",
          "text": [
            "Downloading data from https://www.cs.toronto.edu/~kriz/cifar-10-python.tar.gz\n",
            "170500096/170498071 [==============================] - 4s 0us/step\n",
            "170508288/170498071 [==============================] - 4s 0us/step\n"
          ]
        }
      ],
      "source": [
        "from tensorflow import keras\n",
        "from sklearn.model_selection import train_test_split\n",
        "import tensorflow_datasets as tfds\n",
        "import tensorflow as tf\n",
        "\n",
        "\n",
        "# Import the dataset\n",
        "# I experimented with both import methods and found this one simpler, and there was\n",
        "# little to no benefit I saw in the other method\n",
        "\n",
        "\n",
        "# (ds_train, ds_valid, ds_test), ds_info = tfds.load(\n",
        "#     'cifar10',\n",
        "#     split = ['train[:90%]', 'train[90%:]', 'test'], # 90% training set in ds_train and 10% in ds_valid\n",
        "#     shuffle_files = True,\n",
        "#     as_supervised = True,\n",
        "#     with_info = True\n",
        "# )\n",
        "\n",
        "(X_train_full, y_train_full), (X_test, y_test) = keras.datasets.cifar10.load_data()\n",
        "X_train_tr, X_train_v, y_train_tr, y_train_v = train_test_split(X_train_full,\n",
        "                                                                y_train_full,\n",
        "                                                                test_size=5000)"
      ]
    },
    {
      "cell_type": "code",
      "execution_count": 2,
      "metadata": {
        "id": "7ceAyZcFBGnk"
      },
      "outputs": [],
      "source": [
        "# This will help with data pipelining so that we don't take up so much RAM\n",
        "ds_train = tf.data.Dataset.from_tensor_slices( (X_train_tr, y_train_tr) )\n",
        "ds_valid = tf.data.Dataset.from_tensor_slices((X_train_v, y_train_v))\n",
        "ds_test = tf.data.Dataset.from_tensor_slices((X_test, y_test))"
      ]
    },
    {
      "cell_type": "code",
      "execution_count": 3,
      "metadata": {
        "colab": {
          "base_uri": "https://localhost:8080/"
        },
        "id": "rpRIhCV-nSWW",
        "outputId": "efa3786c-dc06-4abb-a207-7374f16389dc"
      },
      "outputs": [
        {
          "output_type": "execute_result",
          "data": {
            "text/plain": [
              "<TensorSliceDataset element_spec=(TensorSpec(shape=(32, 32, 3), dtype=tf.uint8, name=None), TensorSpec(shape=(1,), dtype=tf.uint8, name=None))>"
            ]
          },
          "metadata": {},
          "execution_count": 3
        }
      ],
      "source": [
        "ds_train"
      ]
    },
    {
      "cell_type": "code",
      "execution_count": 4,
      "metadata": {
        "colab": {
          "base_uri": "https://localhost:8080/"
        },
        "id": "9Z4lzHT8nXS5",
        "outputId": "b3109922-0271-4d3c-e106-851bc449e370"
      },
      "outputs": [
        {
          "output_type": "execute_result",
          "data": {
            "text/plain": [
              "<TensorSliceDataset element_spec=(TensorSpec(shape=(32, 32, 3), dtype=tf.uint8, name=None), TensorSpec(shape=(1,), dtype=tf.uint8, name=None))>"
            ]
          },
          "metadata": {},
          "execution_count": 4
        }
      ],
      "source": [
        "ds_valid"
      ]
    },
    {
      "cell_type": "code",
      "execution_count": 5,
      "metadata": {
        "colab": {
          "base_uri": "https://localhost:8080/"
        },
        "id": "iI-v28H9nUz2",
        "outputId": "75d4a060-598a-437c-a315-1f6f5c796da3"
      },
      "outputs": [
        {
          "output_type": "execute_result",
          "data": {
            "text/plain": [
              "<TensorSliceDataset element_spec=(TensorSpec(shape=(32, 32, 3), dtype=tf.uint8, name=None), TensorSpec(shape=(1,), dtype=tf.uint8, name=None))>"
            ]
          },
          "metadata": {},
          "execution_count": 5
        }
      ],
      "source": [
        "ds_test"
      ]
    },
    {
      "cell_type": "code",
      "execution_count": 6,
      "metadata": {
        "colab": {
          "base_uri": "https://localhost:8080/",
          "height": 227
        },
        "id": "m45ue4gHnvGG",
        "outputId": "a10624dc-80c3-4cef-9f09-2008f009b524"
      },
      "outputs": [
        {
          "output_type": "display_data",
          "data": {
            "text/plain": [
              "<Figure size 1224x576 with 3 Axes>"
            ],
            "image/png": "[encoded data removed]"
          },
          "metadata": {
            "needs_background": "light"
          }
        }
      ],
      "source": [
        "import matplotlib.pyplot as plt\n",
        "\n",
        "\n",
        "plt.figure(figsize=(17, 8))\n",
        "i=1\n",
        "for element in ds_train.take(3): # take 5 images\n",
        "  image, label = element[0], element[1]\n",
        "  plt.subplot(1,5,i)\n",
        "  plt.imshow(image.numpy()[:,:,0])\n",
        "  plt.title(\"Class \" + str(label.numpy()))\n",
        "  i+=1\n",
        "\n",
        "plt.show()\n",
        "\n",
        "# these don't display very nicely, but this was the best I could do"
      ]
    },
    {
      "cell_type": "code",
      "execution_count": 7,
      "metadata": {
        "id": "16S8u43-nbhd"
      },
      "outputs": [],
      "source": [
        "# Cool. Those look good. Time to preprocess the data\n",
        "import tensorflow as tf\n",
        "\n",
        "def preprocess(image, label): \n",
        "  # image = tf.expand_dims(image, axis=2)\n",
        "  # image = tf.image.grayscale_to_rgb(image)\n",
        "  image = tf.image.resize(image, [224, 224])\n",
        "  # image = tf.image.grayscale_to_rgb(image)\n",
        "  return (image, label)\n",
        "\n"
      ]
    },
    {
      "cell_type": "code",
      "execution_count": 8,
      "metadata": {
        "id": "BuJZtlJSCR36"
      },
      "outputs": [],
      "source": [
        "ds_train = ds_train.map(preprocess)\n",
        "\n",
        "ds_train = ds_train.batch(32).prefetch(1)\n",
        "ds_valid = ds_valid.map(preprocess).batch(32).prefetch(1)\n",
        "ds_test = ds_test.map(preprocess).batch(32).prefetch(1)"
      ]
    },
    {
      "cell_type": "code",
      "execution_count": 9,
      "metadata": {
        "colab": {
          "base_uri": "https://localhost:8080/"
        },
        "id": "-_APHM27_1gE",
        "outputId": "6e61a36a-c415-4fff-aca0-43a52365587e"
      },
      "outputs": [
        {
          "output_type": "execute_result",
          "data": {
            "text/plain": [
              "<PrefetchDataset element_spec=(TensorSpec(shape=(None, 224, 224, 3), dtype=tf.float32, name=None), TensorSpec(shape=(None, 1), dtype=tf.uint8, name=None))>"
            ]
          },
          "metadata": {},
          "execution_count": 9
        }
      ],
      "source": [
        "ds_train"
      ]
    },
    {
      "cell_type": "code",
      "execution_count": 10,
      "metadata": {
        "colab": {
          "base_uri": "https://localhost:8080/"
        },
        "id": "BYcLSjwc_2xG",
        "outputId": "72996492-fb55-414a-f731-a1fb9b47c3fc"
      },
      "outputs": [
        {
          "output_type": "execute_result",
          "data": {
            "text/plain": [
              "<PrefetchDataset element_spec=(TensorSpec(shape=(None, 224, 224, 3), dtype=tf.float32, name=None), TensorSpec(shape=(None, 1), dtype=tf.uint8, name=None))>"
            ]
          },
          "metadata": {},
          "execution_count": 10
        }
      ],
      "source": [
        "ds_valid"
      ]
    },
    {
      "cell_type": "code",
      "execution_count": 11,
      "metadata": {
        "colab": {
          "base_uri": "https://localhost:8080/"
        },
        "id": "QAtH589__4XL",
        "outputId": "b942bf7c-a8bb-4d2d-b76e-f8e216229619"
      },
      "outputs": [
        {
          "output_type": "execute_result",
          "data": {
            "text/plain": [
              "<PrefetchDataset element_spec=(TensorSpec(shape=(None, 224, 224, 3), dtype=tf.float32, name=None), TensorSpec(shape=(None, 1), dtype=tf.uint8, name=None))>"
            ]
          },
          "metadata": {},
          "execution_count": 11
        }
      ],
      "source": [
        "ds_test"
      ]
    },
    {
      "cell_type": "markdown",
      "metadata": {
        "id": "vC6r03Chnky2"
      },
      "source": [
        "\n",
        "# Model 1: EfficientNet WITHOUT Data Augmentation\n",
        "\n",
        "\n",
        "\n",
        "\n",
        "\n"
      ]
    },
    {
      "cell_type": "code",
      "execution_count": 95,
      "metadata": {
        "id": "D7i9LwQAEYiV"
      },
      "outputs": [],
      "source": [
        "# Try a simple model with no data augmentation\n",
        "base_model = keras.applications.EfficientNetV2B0(weights=\"imagenet\", \n",
        "                                              include_top=False,\n",
        "                                             input_shape=(224,224,3))\n",
        "global_avg = keras.layers.GlobalAveragePooling2D()(base_model.output)\n",
        "dropout = keras.layers.Dropout(0.05)(global_avg) \n",
        "output = keras.layers.Dense(10, activation=\"softmax\")(dropout)\n",
        "model = keras.models.Model(inputs=base_model.input, outputs=output)"
      ]
    },
    {
      "cell_type": "code",
      "execution_count": 96,
      "metadata": {
        "colab": {
          "base_uri": "https://localhost:8080/"
        },
        "id": "3kkIlJ65FpHJ",
        "outputId": "c3f5ca77-e54f-4c16-8509-6523bb178606"
      },
      "outputs": [
        {
          "output_type": "stream",
          "name": "stdout",
          "text": [
            "Epoch 1/50\n",
            "1407/1407 [==============================] - 57s 37ms/step - loss: 0.3856 - accuracy: 0.8793 - val_loss: 0.2904 - val_accuracy: 0.8992\n",
            "Epoch 2/50\n",
            "1407/1407 [==============================] - 49s 35ms/step - loss: 0.2561 - accuracy: 0.9146 - val_loss: 0.2654 - val_accuracy: 0.9074\n",
            "Epoch 3/50\n",
            "1407/1407 [==============================] - 49s 35ms/step - loss: 0.2317 - accuracy: 0.9213 - val_loss: 0.2565 - val_accuracy: 0.9124\n",
            "Epoch 4/50\n",
            "1407/1407 [==============================] - 50s 35ms/step - loss: 0.2161 - accuracy: 0.9260 - val_loss: 0.2519 - val_accuracy: 0.9144\n",
            "Epoch 5/50\n",
            "1407/1407 [==============================] - 50s 36ms/step - loss: 0.2052 - accuracy: 0.9304 - val_loss: 0.2500 - val_accuracy: 0.9146\n",
            "Epoch 6/50\n",
            "1407/1407 [==============================] - 49s 35ms/step - loss: 0.1966 - accuracy: 0.9327 - val_loss: 0.2480 - val_accuracy: 0.9142\n",
            "Epoch 7/50\n",
            "1407/1407 [==============================] - 49s 35ms/step - loss: 0.1907 - accuracy: 0.9356 - val_loss: 0.2500 - val_accuracy: 0.9148\n",
            "Epoch 8/50\n",
            "1407/1407 [==============================] - 50s 35ms/step - loss: 0.1852 - accuracy: 0.9363 - val_loss: 0.2493 - val_accuracy: 0.9162\n",
            "Epoch 9/50\n",
            "1407/1407 [==============================] - 49s 35ms/step - loss: 0.1817 - accuracy: 0.9392 - val_loss: 0.2499 - val_accuracy: 0.9166\n",
            "Epoch 10/50\n",
            "1407/1407 [==============================] - 50s 35ms/step - loss: 0.1752 - accuracy: 0.9412 - val_loss: 0.2504 - val_accuracy: 0.9160\n",
            "Epoch 11/50\n",
            "1407/1407 [==============================] - 49s 35ms/step - loss: 0.1738 - accuracy: 0.9409 - val_loss: 0.2521 - val_accuracy: 0.9154\n",
            "CPU times: user 14min 41s, sys: 42.7 s, total: 15min 24s\n",
            "Wall time: 13min 30s\n"
          ]
        }
      ],
      "source": [
        "%%time\n",
        "for layer in base_model.layers:\n",
        "    layer.trainable = False\n",
        "\n",
        "model.compile(loss=\"sparse_categorical_crossentropy\",\n",
        "                optimizer=keras.optimizers.Nadam(1e-3),\n",
        "                metrics=[\"accuracy\"])\n",
        "\n",
        "history = model.fit(ds_train, \n",
        "                    epochs=50, validation_data=ds_valid, \n",
        "                    callbacks=[keras.callbacks.EarlyStopping(patience=5)])"
      ]
    },
    {
      "cell_type": "code",
      "execution_count": 97,
      "metadata": {
        "colab": {
          "base_uri": "https://localhost:8080/"
        },
        "id": "-pb7nu5kMH2c",
        "outputId": "afa4fa0d-10a4-424e-ca81-758f8a068dcf"
      },
      "outputs": [
        {
          "output_type": "stream",
          "name": "stdout",
          "text": [
            "Epoch 1/100\n",
            "1407/1407 [==============================] - 241s 134ms/step - loss: 0.2966 - accuracy: 0.9025 - val_loss: 0.1759 - val_accuracy: 0.9390\n",
            "Epoch 2/100\n",
            "1407/1407 [==============================] - 186s 133ms/step - loss: 0.0754 - accuracy: 0.9744 - val_loss: 0.1595 - val_accuracy: 0.9508\n",
            "Epoch 3/100\n",
            "1407/1407 [==============================] - 187s 133ms/step - loss: 0.0300 - accuracy: 0.9905 - val_loss: 0.1659 - val_accuracy: 0.9486\n",
            "Epoch 4/100\n",
            "1407/1407 [==============================] - 186s 132ms/step - loss: 0.0227 - accuracy: 0.9929 - val_loss: 0.1821 - val_accuracy: 0.9528\n",
            "Epoch 5/100\n",
            "1407/1407 [==============================] - 186s 132ms/step - loss: 0.0202 - accuracy: 0.9935 - val_loss: 0.1685 - val_accuracy: 0.9544\n",
            "Epoch 6/100\n",
            "1407/1407 [==============================] - 189s 134ms/step - loss: 0.0156 - accuracy: 0.9949 - val_loss: 0.1912 - val_accuracy: 0.9498\n",
            "Epoch 7/100\n",
            "1407/1407 [==============================] - 187s 133ms/step - loss: 0.0144 - accuracy: 0.9952 - val_loss: 0.2032 - val_accuracy: 0.9528\n",
            "CPU times: user 25min 32s, sys: 1min 44s, total: 27min 17s\n",
            "Wall time: 24min 11s\n"
          ]
        }
      ],
      "source": [
        "# Some retraining\n",
        "%%time\n",
        "for layer in base_model.layers:\n",
        "    layer.trainable = True\n",
        "\n",
        "model.compile(loss=\"sparse_categorical_crossentropy\",\n",
        "                optimizer=keras.optimizers.Nadam(1e-4), \n",
        "                metrics=[\"accuracy\"])\n",
        "\n",
        "n_epochs = 100\n",
        "history = model.fit(ds_train,\n",
        "                    epochs=n_epochs,\n",
        "                    validation_data=ds_valid,\n",
        "                    callbacks=[keras.callbacks.EarlyStopping(patience=5)])"
      ]
    },
    {
      "cell_type": "code",
      "execution_count": 98,
      "metadata": {
        "colab": {
          "base_uri": "https://localhost:8080/"
        },
        "id": "URDuRBt7KFev",
        "outputId": "6e3c4aa7-4975-4398-b4c6-3abf3d63f6fd"
      },
      "outputs": [
        {
          "output_type": "stream",
          "name": "stdout",
          "text": [
            "313/313 [==============================] - 10s 31ms/step - loss: 0.1746 - accuracy: 0.9594\n"
          ]
        },
        {
          "output_type": "execute_result",
          "data": {
            "text/plain": [
              "[0.17459611594676971, 0.9593999981880188]"
            ]
          },
          "metadata": {},
          "execution_count": 98
        }
      ],
      "source": [
        "model.evaluate(ds_test)\n",
        "\n",
        "# Okay this one was actually pretty good. More evaluations later."
      ]
    },
    {
      "cell_type": "code",
      "execution_count": 16,
      "metadata": {
        "id": "yAbaU-0uKkef"
      },
      "outputs": [],
      "source": [
        "import pickle\n",
        "\n",
        "with open('model_1', 'wb') as file:\n",
        "    pickle.dump(history.history, file)"
      ]
    },
    {
      "cell_type": "code",
      "execution_count": 17,
      "metadata": {
        "id": "B_Si5ZweKvao"
      },
      "outputs": [],
      "source": [
        "keras.backend.clear_session()"
      ]
    },
    {
      "cell_type": "markdown",
      "metadata": {
        "id": "qpVrCSvJKxEG"
      },
      "source": [
        "# Model 2: EfficientNet with Data Augmentation\n",
        "\n"
      ]
    },
    {
      "cell_type": "code",
      "execution_count": 18,
      "metadata": {
        "id": "29LFU_dBY71F"
      },
      "outputs": [],
      "source": [
        "(X_train_full, y_train_full), (X_test, y_test) = keras.datasets.cifar10.load_data()\n",
        "X_train_tr, X_train_v, y_train_tr, y_train_v = train_test_split(X_train_full,\n",
        "                                                                y_train_full,\n",
        "                                                                test_size=5000)"
      ]
    },
    {
      "cell_type": "code",
      "execution_count": 19,
      "metadata": {
        "id": "UG93HNmdY-k8"
      },
      "outputs": [],
      "source": [
        "ds_train = tf.data.Dataset.from_tensor_slices( (X_train_tr, y_train_tr) )\n",
        "ds_valid = tf.data.Dataset.from_tensor_slices((X_train_v, y_train_v))\n",
        "ds_test = tf.data.Dataset.from_tensor_slices((X_test, y_test))"
      ]
    },
    {
      "cell_type": "code",
      "execution_count": 20,
      "metadata": {
        "id": "l3sIbC4vLjM6"
      },
      "outputs": [],
      "source": [
        "# We need another function for data augmentation\n",
        "def preprocess(image, label): \n",
        "  # image = tf.image.grayscale_to_rgb(image) \n",
        "  image = tf.image.resize(image, [224, 224])\n",
        "  return (image, label)\n",
        "\n",
        "\n",
        "def data_aug(image, label): # the data augmentation function\n",
        "  image = tf.image.random_flip_left_right(image)\n",
        "  return (image, label) # might be able to add other image methods as well\n",
        "\n"
      ]
    },
    {
      "cell_type": "code",
      "execution_count": 21,
      "metadata": {
        "id": "51Yx3eKjNE2R"
      },
      "outputs": [],
      "source": [
        "ds_train = ds_train.map(preprocess).map(data_aug).batch(32).prefetch(1)\n",
        "ds_valid = ds_valid.map(preprocess).batch(32).prefetch(1)\n",
        "ds_test = ds_test.map(preprocess).batch(32).prefetch(1)"
      ]
    },
    {
      "cell_type": "code",
      "execution_count": 22,
      "metadata": {
        "id": "EFZIDLWcNPJH"
      },
      "outputs": [],
      "source": [
        "base_model = keras.applications.EfficientNetV2B0(weights=\"imagenet\", \n",
        "                                              include_top=False,\n",
        "                                             input_shape=(224,224,3))\n",
        "global_avg = keras.layers.GlobalAveragePooling2D()(base_model.output)\n",
        "dropout = keras.layers.Dropout(0.05)(global_avg) \n",
        "output = keras.layers.Dense(10, activation=\"softmax\")(dropout)\n",
        "model = keras.models.Model(inputs=base_model.input, outputs=output)"
      ]
    },
    {
      "cell_type": "code",
      "execution_count": 23,
      "metadata": {
        "colab": {
          "base_uri": "https://localhost:8080/"
        },
        "id": "1snX6bAoNRYk",
        "outputId": "abea7012-dd26-47dc-e6fb-dea4d63dd7d1"
      },
      "outputs": [
        {
          "output_type": "stream",
          "name": "stdout",
          "text": [
            "Epoch 1/50\n",
            "1407/1407 [==============================] - 58s 37ms/step - loss: 0.3917 - accuracy: 0.8775 - val_loss: 0.2942 - val_accuracy: 0.9040\n",
            "Epoch 2/50\n",
            "1407/1407 [==============================] - 51s 36ms/step - loss: 0.2561 - accuracy: 0.9134 - val_loss: 0.2745 - val_accuracy: 0.9088\n",
            "Epoch 3/50\n",
            "1407/1407 [==============================] - 51s 36ms/step - loss: 0.2309 - accuracy: 0.9210 - val_loss: 0.2700 - val_accuracy: 0.9096\n",
            "Epoch 4/50\n",
            "1407/1407 [==============================] - 51s 36ms/step - loss: 0.2161 - accuracy: 0.9264 - val_loss: 0.2655 - val_accuracy: 0.9118\n",
            "Epoch 5/50\n",
            "1407/1407 [==============================] - 51s 37ms/step - loss: 0.2048 - accuracy: 0.9307 - val_loss: 0.2660 - val_accuracy: 0.9120\n",
            "Epoch 6/50\n",
            "1407/1407 [==============================] - 51s 36ms/step - loss: 0.1961 - accuracy: 0.9339 - val_loss: 0.2669 - val_accuracy: 0.9110\n",
            "Epoch 7/50\n",
            "1407/1407 [==============================] - 50s 36ms/step - loss: 0.1903 - accuracy: 0.9356 - val_loss: 0.2665 - val_accuracy: 0.9128\n",
            "Epoch 8/50\n",
            "1407/1407 [==============================] - 51s 36ms/step - loss: 0.1831 - accuracy: 0.9377 - val_loss: 0.2688 - val_accuracy: 0.9110\n",
            "Epoch 9/50\n",
            "1407/1407 [==============================] - 51s 36ms/step - loss: 0.1781 - accuracy: 0.9383 - val_loss: 0.2695 - val_accuracy: 0.9112\n",
            "CPU times: user 12min 7s, sys: 40.3 s, total: 12min 48s\n",
            "Wall time: 11min 20s\n"
          ]
        }
      ],
      "source": [
        "%%time\n",
        "for layer in base_model.layers:\n",
        "    layer.trainable = False\n",
        "\n",
        "model.compile(loss=\"sparse_categorical_crossentropy\",\n",
        "                optimizer=keras.optimizers.Nadam(1e-3),\n",
        "                metrics=[\"accuracy\"])\n",
        "\n",
        "history = model.fit(ds_train, \n",
        "                    epochs=50, validation_data=ds_valid, \n",
        "                    callbacks=[keras.callbacks.EarlyStopping(patience=5)])"
      ]
    },
    {
      "cell_type": "code",
      "execution_count": 24,
      "metadata": {
        "id": "e70H3U6jNSH2",
        "colab": {
          "base_uri": "https://localhost:8080/"
        },
        "outputId": "4c19eadb-97d6-4fe6-fe8e-935a570c9e80"
      },
      "outputs": [
        {
          "output_type": "stream",
          "name": "stdout",
          "text": [
            "Epoch 1/100\n",
            "1407/1407 [==============================] - 241s 135ms/step - loss: 0.2998 - accuracy: 0.8994 - val_loss: 0.1429 - val_accuracy: 0.9490\n",
            "Epoch 2/100\n",
            "1407/1407 [==============================] - 189s 134ms/step - loss: 0.0746 - accuracy: 0.9758 - val_loss: 0.1459 - val_accuracy: 0.9554\n",
            "Epoch 3/100\n",
            "1407/1407 [==============================] - 193s 137ms/step - loss: 0.0333 - accuracy: 0.9895 - val_loss: 0.1463 - val_accuracy: 0.9548\n",
            "Epoch 4/100\n",
            "1407/1407 [==============================] - 188s 133ms/step - loss: 0.0220 - accuracy: 0.9933 - val_loss: 0.1588 - val_accuracy: 0.9592\n",
            "Epoch 5/100\n",
            "1407/1407 [==============================] - 188s 134ms/step - loss: 0.0177 - accuracy: 0.9945 - val_loss: 0.1669 - val_accuracy: 0.9574\n",
            "Epoch 6/100\n",
            "1407/1407 [==============================] - 188s 133ms/step - loss: 0.0173 - accuracy: 0.9940 - val_loss: 0.1592 - val_accuracy: 0.9552\n",
            "CPU times: user 22min 12s, sys: 1min 31s, total: 23min 43s\n",
            "Wall time: 20min 40s\n"
          ]
        }
      ],
      "source": [
        "# Some retraining\n",
        "%%time\n",
        "for layer in base_model.layers:\n",
        "    layer.trainable = True\n",
        "\n",
        "model.compile(loss=\"sparse_categorical_crossentropy\",\n",
        "                optimizer=keras.optimizers.Nadam(1e-4), \n",
        "                metrics=[\"accuracy\"])\n",
        "\n",
        "n_epochs = 100\n",
        "history = model.fit(ds_train,\n",
        "                    epochs=n_epochs,\n",
        "                    validation_data=ds_valid,\n",
        "                    callbacks=[keras.callbacks.EarlyStopping(patience=5)])"
      ]
    },
    {
      "cell_type": "code",
      "execution_count": 25,
      "metadata": {
        "id": "dpbV2m4-Q5Ls",
        "colab": {
          "base_uri": "https://localhost:8080/"
        },
        "outputId": "c76d37d2-0390-4b94-e4de-5742135ef402"
      },
      "outputs": [
        {
          "output_type": "stream",
          "name": "stdout",
          "text": [
            "313/313 [==============================] - 10s 32ms/step - loss: 0.1656 - accuracy: 0.9581\n"
          ]
        },
        {
          "output_type": "execute_result",
          "data": {
            "text/plain": [
              "[0.16558530926704407, 0.9581000208854675]"
            ]
          },
          "metadata": {},
          "execution_count": 25
        }
      ],
      "source": [
        "model.evaluate(ds_test)"
      ]
    },
    {
      "cell_type": "code",
      "execution_count": 26,
      "metadata": {
        "id": "N4fRga4kbJWh"
      },
      "outputs": [],
      "source": [
        "import pickle\n",
        "\n",
        "with open('model_2', 'wb') as file:\n",
        "    pickle.dump(history.history, file)"
      ]
    },
    {
      "cell_type": "code",
      "execution_count": 27,
      "metadata": {
        "id": "zMPVxzv_bLf1"
      },
      "outputs": [],
      "source": [
        "keras.backend.clear_session()"
      ]
    },
    {
      "cell_type": "markdown",
      "source": [
        "# Model 3: ResNet50 with Data Augmentation\n"
      ],
      "metadata": {
        "id": "Q7W_MGXLPgY7"
      }
    },
    {
      "cell_type": "code",
      "source": [
        "(X_train_full, y_train_full), (X_test, y_test) = keras.datasets.cifar10.load_data()\n",
        "X_train_tr, X_train_v, y_train_tr, y_train_v = train_test_split(X_train_full,\n",
        "                                                                y_train_full,\n",
        "                                                                test_size=5000)"
      ],
      "metadata": {
        "id": "c9j2MnrZVeuD"
      },
      "execution_count": 28,
      "outputs": []
    },
    {
      "cell_type": "code",
      "source": [
        "ds_train = tf.data.Dataset.from_tensor_slices( (X_train_tr, y_train_tr) )\n",
        "ds_valid = tf.data.Dataset.from_tensor_slices((X_train_v, y_train_v))\n",
        "ds_test = tf.data.Dataset.from_tensor_slices((X_test, y_test))"
      ],
      "metadata": {
        "id": "0MVcYetMTyID"
      },
      "execution_count": 29,
      "outputs": []
    },
    {
      "cell_type": "code",
      "source": [
        "# We need another function for data augmentation\n",
        "def preprocess(image, label): \n",
        "  # image = tf.image.grayscale_to_rgb(image) \n",
        "  image = tf.image.resize(image, [224, 224])\n",
        "  return (image, label)\n",
        "\n",
        "\n",
        "def data_aug(image, label): # the data augmentation function\n",
        "  image = tf.image.random_flip_left_right(image)\n",
        "  return (image, label) # might be able to add other image methods as well"
      ],
      "metadata": {
        "id": "_iqvcvvBVfQ0"
      },
      "execution_count": 30,
      "outputs": []
    },
    {
      "cell_type": "code",
      "source": [
        "ds_train = ds_train.map(preprocess).map(data_aug).batch(32).prefetch(1)\n",
        "ds_valid = ds_valid.map(preprocess).batch(32).prefetch(1)\n",
        "ds_test = ds_test.map(preprocess).batch(32).prefetch(1)\n",
        "\n",
        "# our data augmentation and preproces functions should already be in memory"
      ],
      "metadata": {
        "id": "vWt8DJcZUYiR"
      },
      "execution_count": 31,
      "outputs": []
    },
    {
      "cell_type": "code",
      "source": [
        "ds_train # just to make sure they are the right size for debugging"
      ],
      "metadata": {
        "colab": {
          "base_uri": "https://localhost:8080/"
        },
        "id": "61q-RZQjWMiJ",
        "outputId": "1339007e-9bbe-4211-cee1-4e5173d82d4b"
      },
      "execution_count": 32,
      "outputs": [
        {
          "output_type": "execute_result",
          "data": {
            "text/plain": [
              "<PrefetchDataset element_spec=(TensorSpec(shape=(None, 224, 224, 3), dtype=tf.float32, name=None), TensorSpec(shape=(None, 1), dtype=tf.uint8, name=None))>"
            ]
          },
          "metadata": {},
          "execution_count": 32
        }
      ]
    },
    {
      "cell_type": "code",
      "source": [
        "ds_valid"
      ],
      "metadata": {
        "colab": {
          "base_uri": "https://localhost:8080/"
        },
        "id": "_o6CBKTeWU7F",
        "outputId": "cfd4670a-87fc-406b-c300-2414de13e1dd"
      },
      "execution_count": 33,
      "outputs": [
        {
          "output_type": "execute_result",
          "data": {
            "text/plain": [
              "<PrefetchDataset element_spec=(TensorSpec(shape=(None, 224, 224, 3), dtype=tf.float32, name=None), TensorSpec(shape=(None, 1), dtype=tf.uint8, name=None))>"
            ]
          },
          "metadata": {},
          "execution_count": 33
        }
      ]
    },
    {
      "cell_type": "code",
      "source": [
        "ds_test"
      ],
      "metadata": {
        "colab": {
          "base_uri": "https://localhost:8080/"
        },
        "id": "0BM13C5BWWge",
        "outputId": "13a83d95-634c-4451-d151-dfde4ac982b1"
      },
      "execution_count": 34,
      "outputs": [
        {
          "output_type": "execute_result",
          "data": {
            "text/plain": [
              "<PrefetchDataset element_spec=(TensorSpec(shape=(None, 224, 224, 3), dtype=tf.float32, name=None), TensorSpec(shape=(None, 1), dtype=tf.uint8, name=None))>"
            ]
          },
          "metadata": {},
          "execution_count": 34
        }
      ]
    },
    {
      "cell_type": "code",
      "source": [
        "# compile the model\n",
        "\n",
        "# Implementing ResNet is almost identical to implementing EfficientNet\n",
        "\n",
        "base_model = keras.applications.ResNet50(weights=\"imagenet\",\n",
        "                                         include_top=False,\n",
        "                                         input_shape=(224,224,3))\n",
        "global_avg = keras.layers.GlobalAveragePooling2D()(base_model.output)\n",
        "dropout = keras.layers.Dropout(0.05)(global_avg)\n",
        "output = keras.layers.Dense(10, activation=\"softmax\")(dropout)\n",
        "model = keras.models.Model(inputs=base_model.input, outputs=output)"
      ],
      "metadata": {
        "id": "JtG8ljJaUbE_"
      },
      "execution_count": 39,
      "outputs": []
    },
    {
      "cell_type": "code",
      "source": [
        "# run the model\n",
        "%%time\n",
        "for layer in base_model.layers:\n",
        "  layer.trainable = False\n",
        "\n",
        "\n",
        "model.compile(loss=\"sparse_categorical_crossentropy\",\n",
        "                optimizer=keras.optimizers.Nadam(1e-4),\n",
        "                metrics=[\"accuracy\"])\n",
        "\n",
        "n_epochs = 50 #100 was just too long\n",
        "history = model.fit(ds_train,\n",
        "                    epochs=n_epochs,\n",
        "                    validation_data=ds_valid,\n",
        "                    callbacks=[keras.callbacks.EarlyStopping(patience=3)])"
      ],
      "metadata": {
        "colab": {
          "base_uri": "https://localhost:8080/"
        },
        "id": "-ERKoulOU8qp",
        "outputId": "96bcca92-f4c8-43b9-aed3-df9fe9539a9b"
      },
      "execution_count": 40,
      "outputs": [
        {
          "output_type": "stream",
          "name": "stdout",
          "text": [
            "Epoch 1/50\n",
            "1407/1407 [==============================] - 88s 61ms/step - loss: 0.9931 - accuracy: 0.6674 - val_loss: 0.6382 - val_accuracy: 0.7924\n",
            "Epoch 2/50\n",
            "1407/1407 [==============================] - 85s 60ms/step - loss: 0.5961 - accuracy: 0.7986 - val_loss: 0.5318 - val_accuracy: 0.8262\n",
            "Epoch 3/50\n",
            "1407/1407 [==============================] - 84s 60ms/step - loss: 0.5202 - accuracy: 0.8236 - val_loss: 0.4863 - val_accuracy: 0.8432\n",
            "Epoch 4/50\n",
            "1407/1407 [==============================] - 84s 60ms/step - loss: 0.4825 - accuracy: 0.8363 - val_loss: 0.4600 - val_accuracy: 0.8490\n",
            "Epoch 5/50\n",
            "1407/1407 [==============================] - 85s 61ms/step - loss: 0.4532 - accuracy: 0.8440 - val_loss: 0.4403 - val_accuracy: 0.8564\n",
            "Epoch 6/50\n",
            "1407/1407 [==============================] - 85s 61ms/step - loss: 0.4333 - accuracy: 0.8521 - val_loss: 0.4266 - val_accuracy: 0.8620\n",
            "Epoch 7/50\n",
            "1407/1407 [==============================] - 85s 61ms/step - loss: 0.4169 - accuracy: 0.8594 - val_loss: 0.4168 - val_accuracy: 0.8640\n",
            "Epoch 8/50\n",
            "1407/1407 [==============================] - 85s 61ms/step - loss: 0.4039 - accuracy: 0.8615 - val_loss: 0.4078 - val_accuracy: 0.8664\n",
            "Epoch 9/50\n",
            "1407/1407 [==============================] - 85s 61ms/step - loss: 0.3914 - accuracy: 0.8663 - val_loss: 0.4025 - val_accuracy: 0.8662\n",
            "Epoch 10/50\n",
            "1407/1407 [==============================] - 85s 61ms/step - loss: 0.3845 - accuracy: 0.8688 - val_loss: 0.3959 - val_accuracy: 0.8682\n",
            "Epoch 11/50\n",
            "1407/1407 [==============================] - 85s 61ms/step - loss: 0.3723 - accuracy: 0.8732 - val_loss: 0.3929 - val_accuracy: 0.8690\n",
            "Epoch 12/50\n",
            "1407/1407 [==============================] - 85s 60ms/step - loss: 0.3667 - accuracy: 0.8748 - val_loss: 0.3871 - val_accuracy: 0.8690\n",
            "Epoch 13/50\n",
            "1407/1407 [==============================] - 87s 62ms/step - loss: 0.3602 - accuracy: 0.8768 - val_loss: 0.3849 - val_accuracy: 0.8700\n",
            "Epoch 14/50\n",
            "1407/1407 [==============================] - 84s 60ms/step - loss: 0.3539 - accuracy: 0.8792 - val_loss: 0.3818 - val_accuracy: 0.8682\n",
            "Epoch 15/50\n",
            "1407/1407 [==============================] - 84s 60ms/step - loss: 0.3492 - accuracy: 0.8820 - val_loss: 0.3781 - val_accuracy: 0.8710\n",
            "Epoch 16/50\n",
            "1407/1407 [==============================] - 87s 62ms/step - loss: 0.3434 - accuracy: 0.8820 - val_loss: 0.3760 - val_accuracy: 0.8724\n",
            "Epoch 17/50\n",
            "1407/1407 [==============================] - 84s 60ms/step - loss: 0.3406 - accuracy: 0.8837 - val_loss: 0.3743 - val_accuracy: 0.8716\n",
            "Epoch 18/50\n",
            "1407/1407 [==============================] - 84s 60ms/step - loss: 0.3346 - accuracy: 0.8851 - val_loss: 0.3720 - val_accuracy: 0.8744\n",
            "Epoch 19/50\n",
            "1407/1407 [==============================] - 85s 60ms/step - loss: 0.3315 - accuracy: 0.8872 - val_loss: 0.3699 - val_accuracy: 0.8730\n",
            "Epoch 20/50\n",
            "1407/1407 [==============================] - 85s 60ms/step - loss: 0.3267 - accuracy: 0.8903 - val_loss: 0.3698 - val_accuracy: 0.8726\n",
            "Epoch 21/50\n",
            "1407/1407 [==============================] - 84s 60ms/step - loss: 0.3233 - accuracy: 0.8893 - val_loss: 0.3685 - val_accuracy: 0.8744\n",
            "Epoch 22/50\n",
            "1407/1407 [==============================] - 84s 60ms/step - loss: 0.3217 - accuracy: 0.8900 - val_loss: 0.3662 - val_accuracy: 0.8744\n",
            "Epoch 23/50\n",
            "1407/1407 [==============================] - 84s 60ms/step - loss: 0.3178 - accuracy: 0.8903 - val_loss: 0.3651 - val_accuracy: 0.8760\n",
            "Epoch 24/50\n",
            "1407/1407 [==============================] - 85s 60ms/step - loss: 0.3132 - accuracy: 0.8929 - val_loss: 0.3633 - val_accuracy: 0.8756\n",
            "Epoch 25/50\n",
            "1407/1407 [==============================] - 87s 62ms/step - loss: 0.3121 - accuracy: 0.8931 - val_loss: 0.3638 - val_accuracy: 0.8748\n",
            "Epoch 26/50\n",
            "1407/1407 [==============================] - 85s 60ms/step - loss: 0.3101 - accuracy: 0.8937 - val_loss: 0.3617 - val_accuracy: 0.8770\n",
            "Epoch 27/50\n",
            "1407/1407 [==============================] - 84s 60ms/step - loss: 0.3084 - accuracy: 0.8938 - val_loss: 0.3609 - val_accuracy: 0.8772\n",
            "Epoch 28/50\n",
            "1407/1407 [==============================] - 87s 62ms/step - loss: 0.3067 - accuracy: 0.8942 - val_loss: 0.3600 - val_accuracy: 0.8780\n",
            "Epoch 29/50\n",
            "1407/1407 [==============================] - 84s 60ms/step - loss: 0.3030 - accuracy: 0.8963 - val_loss: 0.3599 - val_accuracy: 0.8772\n",
            "Epoch 30/50\n",
            "1407/1407 [==============================] - 85s 60ms/step - loss: 0.3000 - accuracy: 0.8968 - val_loss: 0.3581 - val_accuracy: 0.8774\n",
            "Epoch 31/50\n",
            "1407/1407 [==============================] - 87s 62ms/step - loss: 0.2995 - accuracy: 0.8977 - val_loss: 0.3590 - val_accuracy: 0.8786\n",
            "Epoch 32/50\n",
            "1407/1407 [==============================] - 84s 60ms/step - loss: 0.2970 - accuracy: 0.8987 - val_loss: 0.3592 - val_accuracy: 0.8782\n",
            "Epoch 33/50\n",
            "1407/1407 [==============================] - 85s 60ms/step - loss: 0.2944 - accuracy: 0.8994 - val_loss: 0.3565 - val_accuracy: 0.8796\n",
            "Epoch 34/50\n",
            "1407/1407 [==============================] - 84s 60ms/step - loss: 0.2936 - accuracy: 0.8993 - val_loss: 0.3566 - val_accuracy: 0.8770\n",
            "Epoch 35/50\n",
            "1407/1407 [==============================] - 84s 60ms/step - loss: 0.2918 - accuracy: 0.9004 - val_loss: 0.3560 - val_accuracy: 0.8798\n",
            "Epoch 36/50\n",
            "1407/1407 [==============================] - 84s 60ms/step - loss: 0.2889 - accuracy: 0.9004 - val_loss: 0.3558 - val_accuracy: 0.8772\n",
            "Epoch 37/50\n",
            "1407/1407 [==============================] - 84s 60ms/step - loss: 0.2884 - accuracy: 0.9006 - val_loss: 0.3574 - val_accuracy: 0.8782\n",
            "Epoch 38/50\n",
            "1407/1407 [==============================] - 84s 60ms/step - loss: 0.2862 - accuracy: 0.9011 - val_loss: 0.3554 - val_accuracy: 0.8786\n",
            "Epoch 39/50\n",
            "1407/1407 [==============================] - 84s 60ms/step - loss: 0.2848 - accuracy: 0.9021 - val_loss: 0.3568 - val_accuracy: 0.8780\n",
            "Epoch 40/50\n",
            "1407/1407 [==============================] - 84s 60ms/step - loss: 0.2849 - accuracy: 0.9012 - val_loss: 0.3551 - val_accuracy: 0.8786\n",
            "Epoch 41/50\n",
            "1407/1407 [==============================] - 85s 60ms/step - loss: 0.2831 - accuracy: 0.9031 - val_loss: 0.3554 - val_accuracy: 0.8794\n",
            "Epoch 42/50\n",
            "1407/1407 [==============================] - 85s 60ms/step - loss: 0.2818 - accuracy: 0.9022 - val_loss: 0.3553 - val_accuracy: 0.8788\n",
            "Epoch 43/50\n",
            "1407/1407 [==============================] - 85s 60ms/step - loss: 0.2802 - accuracy: 0.9038 - val_loss: 0.3552 - val_accuracy: 0.8802\n",
            "CPU times: user 54min 57s, sys: 4min 55s, total: 59min 53s\n",
            "Wall time: 1h 38min 54s\n"
          ]
        }
      ]
    },
    {
      "cell_type": "code",
      "source": [
        "# do some retraining. I think this one will benefit a lot from a little more training\n",
        "\n",
        "%%time\n",
        "for layer in base_model.layers:\n",
        "    layer.trainable = True\n",
        "\n",
        "model.compile(loss=\"sparse_categorical_crossentropy\",\n",
        "                optimizer=keras.optimizers.Nadam(1e-4),\n",
        "                metrics=[\"accuracy\"])\n",
        "\n",
        "n_epochs = 30\n",
        "history = model.fit(ds_train,\n",
        "                    epochs=n_epochs,\n",
        "                    validation_data=ds_valid,\n",
        "                    callbacks=[keras.callbacks.EarlyStopping(patience=3)])"
      ],
      "metadata": {
        "id": "4rQ_Hok0YKT4",
        "colab": {
          "base_uri": "https://localhost:8080/"
        },
        "outputId": "c361e632-82ce-4580-eb63-1ff839f40b5d"
      },
      "execution_count": 41,
      "outputs": [
        {
          "output_type": "stream",
          "name": "stdout",
          "text": [
            "Epoch 1/30\n",
            "1407/1407 [==============================] - 340s 189ms/step - loss: 0.3439 - accuracy: 0.8879 - val_loss: 0.2499 - val_accuracy: 0.9142\n",
            "Epoch 2/30\n",
            "1407/1407 [==============================] - 266s 189ms/step - loss: 0.1372 - accuracy: 0.9535 - val_loss: 0.2328 - val_accuracy: 0.9270\n",
            "Epoch 3/30\n",
            "1407/1407 [==============================] - 265s 188ms/step - loss: 0.1002 - accuracy: 0.9649 - val_loss: 0.3693 - val_accuracy: 0.8832\n",
            "Epoch 4/30\n",
            "1407/1407 [==============================] - 265s 188ms/step - loss: 0.0843 - accuracy: 0.9708 - val_loss: 0.2076 - val_accuracy: 0.9358\n",
            "Epoch 5/30\n",
            "1407/1407 [==============================] - 265s 188ms/step - loss: 0.0683 - accuracy: 0.9764 - val_loss: 0.2798 - val_accuracy: 0.9152\n",
            "Epoch 6/30\n",
            "1407/1407 [==============================] - 265s 188ms/step - loss: 0.0578 - accuracy: 0.9801 - val_loss: 0.2419 - val_accuracy: 0.9310\n",
            "Epoch 7/30\n",
            "1407/1407 [==============================] - 265s 188ms/step - loss: 0.0525 - accuracy: 0.9825 - val_loss: 0.1998 - val_accuracy: 0.9422\n",
            "Epoch 8/30\n",
            "1407/1407 [==============================] - 265s 188ms/step - loss: 0.0473 - accuracy: 0.9837 - val_loss: 0.2786 - val_accuracy: 0.9258\n",
            "Epoch 9/30\n",
            "1407/1407 [==============================] - 265s 189ms/step - loss: 0.0418 - accuracy: 0.9860 - val_loss: 0.2202 - val_accuracy: 0.9362\n",
            "Epoch 10/30\n",
            "1407/1407 [==============================] - 265s 188ms/step - loss: 0.0373 - accuracy: 0.9874 - val_loss: 0.3315 - val_accuracy: 0.9162\n",
            "CPU times: user 36min 24s, sys: 6min 13s, total: 42min 37s\n",
            "Wall time: 52min 59s\n"
          ]
        }
      ]
    },
    {
      "cell_type": "code",
      "source": [
        "model.evaluate(ds_test)"
      ],
      "metadata": {
        "id": "mTyPbE4KYaEa",
        "colab": {
          "base_uri": "https://localhost:8080/"
        },
        "outputId": "61995465-4568-4c07-81d6-5edaec76ba17"
      },
      "execution_count": 42,
      "outputs": [
        {
          "output_type": "stream",
          "name": "stdout",
          "text": [
            "313/313 [==============================] - 17s 54ms/step - loss: 0.3764 - accuracy: 0.9075\n"
          ]
        },
        {
          "output_type": "execute_result",
          "data": {
            "text/plain": [
              "[0.37636107206344604, 0.9075000286102295]"
            ]
          },
          "metadata": {},
          "execution_count": 42
        }
      ]
    },
    {
      "cell_type": "code",
      "source": [
        "import pickle\n",
        "\n",
        "with open('model_3', 'wb') as file:\n",
        "    pickle.dump(history.history, file)"
      ],
      "metadata": {
        "id": "2K9K1OOeYgdF"
      },
      "execution_count": 43,
      "outputs": []
    },
    {
      "cell_type": "code",
      "source": [
        "keras.backend.clear_session()"
      ],
      "metadata": {
        "id": "nHKOzOdLYg8J"
      },
      "execution_count": 44,
      "outputs": []
    },
    {
      "cell_type": "markdown",
      "source": [
        "# Model 4: Xception with Data Augmentation"
      ],
      "metadata": {
        "id": "oCec-vdHeyDh"
      }
    },
    {
      "cell_type": "code",
      "source": [
        "(X_train_full, y_train_full), (X_test, y_test) = keras.datasets.cifar10.load_data()\n",
        "X_train_tr, X_train_v, y_train_tr, y_train_v = train_test_split(X_train_full,\n",
        "                                                                y_train_full,\n",
        "                                                                test_size=5000)"
      ],
      "metadata": {
        "id": "GNxEtPi8e_7N"
      },
      "execution_count": 45,
      "outputs": []
    },
    {
      "cell_type": "code",
      "source": [
        "ds_train = tf.data.Dataset.from_tensor_slices( (X_train_tr, y_train_tr) )\n",
        "ds_valid = tf.data.Dataset.from_tensor_slices((X_train_v, y_train_v))\n",
        "ds_test = tf.data.Dataset.from_tensor_slices((X_test, y_test))"
      ],
      "metadata": {
        "id": "JXi1_QwIfDbo"
      },
      "execution_count": 46,
      "outputs": []
    },
    {
      "cell_type": "code",
      "source": [
        "ds_train = ds_train.map(preprocess).map(data_aug).batch(32).prefetch(1)\n",
        "ds_valid = ds_valid.map(preprocess).batch(32).prefetch(1)\n",
        "ds_test = ds_test.map(preprocess).batch(32).prefetch(1)\n",
        "\n",
        "# our data augmentation and preproces functions should already be in memory"
      ],
      "metadata": {
        "id": "GbhrWh-dfGL_"
      },
      "execution_count": 47,
      "outputs": []
    },
    {
      "cell_type": "code",
      "source": [
        "ds_train"
      ],
      "metadata": {
        "id": "tkbo6luafL1c",
        "colab": {
          "base_uri": "https://localhost:8080/"
        },
        "outputId": "f728dd80-e4ed-4e6f-fc7b-82f2118fa4c9"
      },
      "execution_count": 48,
      "outputs": [
        {
          "output_type": "execute_result",
          "data": {
            "text/plain": [
              "<PrefetchDataset element_spec=(TensorSpec(shape=(None, 224, 224, 3), dtype=tf.float32, name=None), TensorSpec(shape=(None, 1), dtype=tf.uint8, name=None))>"
            ]
          },
          "metadata": {},
          "execution_count": 48
        }
      ]
    },
    {
      "cell_type": "code",
      "source": [
        "ds_valid"
      ],
      "metadata": {
        "id": "0q5Yqg92fRl3",
        "colab": {
          "base_uri": "https://localhost:8080/"
        },
        "outputId": "c5031275-90dd-4979-9a14-862d29dae587"
      },
      "execution_count": 49,
      "outputs": [
        {
          "output_type": "execute_result",
          "data": {
            "text/plain": [
              "<PrefetchDataset element_spec=(TensorSpec(shape=(None, 224, 224, 3), dtype=tf.float32, name=None), TensorSpec(shape=(None, 1), dtype=tf.uint8, name=None))>"
            ]
          },
          "metadata": {},
          "execution_count": 49
        }
      ]
    },
    {
      "cell_type": "code",
      "source": [
        "ds_test"
      ],
      "metadata": {
        "id": "nO1HESzDfTzK",
        "colab": {
          "base_uri": "https://localhost:8080/"
        },
        "outputId": "dfdb33c2-c0f4-42c7-ab1a-7af3a364fff0"
      },
      "execution_count": 50,
      "outputs": [
        {
          "output_type": "execute_result",
          "data": {
            "text/plain": [
              "<PrefetchDataset element_spec=(TensorSpec(shape=(None, 224, 224, 3), dtype=tf.float32, name=None), TensorSpec(shape=(None, 1), dtype=tf.uint8, name=None))>"
            ]
          },
          "metadata": {},
          "execution_count": 50
        }
      ]
    },
    {
      "cell_type": "code",
      "source": [
        "base_model = keras.applications.Xception(weights=\"imagenet\",\n",
        "                                         include_top=False,\n",
        "                                         input_shape=(224,224,3))\n",
        "global_avg = keras.layers.GlobalAveragePooling2D()(base_model.output)\n",
        "dropout = keras.layers.Dropout(0.05)(global_avg)\n",
        "output = keras.layers.Dense(10, activation=\"softmax\")(dropout)\n",
        "model = keras.models.Model(inputs=base_model.input, outputs=output)"
      ],
      "metadata": {
        "id": "jbq4vQVUfVFg",
        "colab": {
          "base_uri": "https://localhost:8080/"
        },
        "outputId": "3d5d0517-d106-4c08-cf02-139badf49f74"
      },
      "execution_count": 51,
      "outputs": [
        {
          "output_type": "stream",
          "name": "stdout",
          "text": [
            "Downloading data from https://storage.googleapis.com/tensorflow/keras-applications/xception/xception_weights_tf_dim_ordering_tf_kernels_notop.h5\n",
            "83689472/83683744 [==============================] - 1s 0us/step\n",
            "83697664/83683744 [==============================] - 1s 0us/step\n"
          ]
        }
      ]
    },
    {
      "cell_type": "code",
      "source": [
        "%%time\n",
        "for layer in base_model.layers:\n",
        "    layer.trainable = False\n",
        "\n",
        "model.compile(loss=\"sparse_categorical_crossentropy\",\n",
        "                optimizer=keras.optimizers.Nadam(1e-3),\n",
        "                metrics=[\"accuracy\"])\n",
        "\n",
        "history = model.fit(ds_train, \n",
        "                    epochs=50, validation_data=ds_valid, \n",
        "                    callbacks=[keras.callbacks.EarlyStopping(patience=5)])"
      ],
      "metadata": {
        "colab": {
          "base_uri": "https://localhost:8080/"
        },
        "id": "77_Pa-VB2FHQ",
        "outputId": "63bd4aff-6097-4c2b-f4ab-32fe800231c3"
      },
      "execution_count": 92,
      "outputs": [
        {
          "output_type": "stream",
          "name": "stdout",
          "text": [
            "Epoch 1/50\n",
            "1407/1407 [==============================] - 120s 84ms/step - loss: 4.0565 - accuracy: 0.3659 - val_loss: 7.4104 - val_accuracy: 0.2448\n",
            "Epoch 2/50\n",
            "1407/1407 [==============================] - 126s 90ms/step - loss: 3.6186 - accuracy: 0.3866 - val_loss: 6.3857 - val_accuracy: 0.2788\n",
            "Epoch 3/50\n",
            "1407/1407 [==============================] - 117s 83ms/step - loss: 3.2908 - accuracy: 0.3965 - val_loss: 7.1372 - val_accuracy: 0.3038\n",
            "Epoch 4/50\n",
            "1407/1407 [==============================] - 117s 83ms/step - loss: 3.1033 - accuracy: 0.4009 - val_loss: 5.1415 - val_accuracy: 0.3060\n",
            "Epoch 5/50\n",
            "1407/1407 [==============================] - 117s 83ms/step - loss: 2.9078 - accuracy: 0.4064 - val_loss: 5.3027 - val_accuracy: 0.2992\n",
            "Epoch 6/50\n",
            "1407/1407 [==============================] - 116s 83ms/step - loss: 2.8306 - accuracy: 0.4052 - val_loss: 3.7500 - val_accuracy: 0.3470\n",
            "Epoch 7/50\n",
            "1407/1407 [==============================] - 116s 83ms/step - loss: 2.6834 - accuracy: 0.4086 - val_loss: 5.1628 - val_accuracy: 0.3300\n",
            "Epoch 8/50\n",
            "1407/1407 [==============================] - 116s 83ms/step - loss: 2.6417 - accuracy: 0.4119 - val_loss: 3.7380 - val_accuracy: 0.3346\n",
            "Epoch 9/50\n",
            "1407/1407 [==============================] - 116s 82ms/step - loss: 2.5775 - accuracy: 0.4089 - val_loss: 4.1955 - val_accuracy: 0.3514\n",
            "Epoch 10/50\n",
            "1407/1407 [==============================] - 116s 83ms/step - loss: 2.5394 - accuracy: 0.4135 - val_loss: 4.3913 - val_accuracy: 0.3354\n",
            "Epoch 11/50\n",
            "1407/1407 [==============================] - 116s 83ms/step - loss: 2.5055 - accuracy: 0.4171 - val_loss: 3.7922 - val_accuracy: 0.3364\n",
            "Epoch 12/50\n",
            "1407/1407 [==============================] - 117s 83ms/step - loss: 2.5042 - accuracy: 0.4135 - val_loss: 4.4066 - val_accuracy: 0.3220\n",
            "Epoch 13/50\n",
            "1407/1407 [==============================] - 116s 83ms/step - loss: 2.4862 - accuracy: 0.4124 - val_loss: 4.0030 - val_accuracy: 0.3248\n",
            "CPU times: user 16min 50s, sys: 1min 10s, total: 18min 1s\n",
            "Wall time: 29min 56s\n"
          ]
        }
      ]
    },
    {
      "cell_type": "code",
      "source": [
        "%%time\n",
        "for layer in base_model.layers:\n",
        "    layer.trainable = False\n",
        "\n",
        "model.compile(loss=\"sparse_categorical_crossentropy\",\n",
        "                optimizer=keras.optimizers.Nadam(1e-3),\n",
        "                metrics=[\"accuracy\"])\n",
        "\n",
        "history = model.fit(ds_train, \n",
        "                    epochs=50, validation_data=ds_valid, \n",
        "                    callbacks=[keras.callbacks.EarlyStopping(patience=5)])"
      ],
      "metadata": {
        "id": "7jfDLU3W2F83"
      },
      "execution_count": null,
      "outputs": []
    },
    {
      "cell_type": "code",
      "source": [
        "model.evaluate(ds_test)"
      ],
      "metadata": {
        "id": "vJL--AyKfj-9",
        "colab": {
          "base_uri": "https://localhost:8080/"
        },
        "outputId": "796f1a5a-3bcd-4c69-e893-8792107144d0"
      },
      "execution_count": 55,
      "outputs": [
        {
          "output_type": "stream",
          "name": "stdout",
          "text": [
            "313/313 [==============================] - 24s 76ms/step - loss: 3.6627 - accuracy: 0.3785\n"
          ]
        },
        {
          "output_type": "execute_result",
          "data": {
            "text/plain": [
              "[3.662656307220459, 0.3785000145435333]"
            ]
          },
          "metadata": {},
          "execution_count": 55
        }
      ]
    },
    {
      "cell_type": "code",
      "source": [
        "import pickle\n",
        "\n",
        "with open('model_4', 'wb') as file:\n",
        "    pickle.dump(history.history, file)"
      ],
      "metadata": {
        "id": "_RY9AOIyfnik"
      },
      "execution_count": 56,
      "outputs": []
    },
    {
      "cell_type": "code",
      "source": [
        "keras.backend.clear_session()"
      ],
      "metadata": {
        "id": "5j4pVDtYfqQF"
      },
      "execution_count": 57,
      "outputs": []
    },
    {
      "cell_type": "markdown",
      "source": [
        "# Analysis"
      ],
      "metadata": {
        "id": "mCWJuGIWf0ld"
      }
    },
    {
      "cell_type": "code",
      "source": [
        "history_1 = pickle.load(open('model_1', 'rb')) "
      ],
      "metadata": {
        "id": "KhHqdpljGGnJ"
      },
      "execution_count": 61,
      "outputs": []
    },
    {
      "cell_type": "code",
      "source": [
        "history_2 = pickle.load(open('model_2', 'rb')) "
      ],
      "metadata": {
        "id": "Pb6PirPEGGxE"
      },
      "execution_count": 62,
      "outputs": []
    },
    {
      "cell_type": "code",
      "source": [
        "history_3 = pickle.load(open('model_3', 'rb')) "
      ],
      "metadata": {
        "id": "NZ-Ov1lyGG6w"
      },
      "execution_count": 65,
      "outputs": []
    },
    {
      "cell_type": "code",
      "source": [
        "history_4 = pickle.load(open('model_4', 'rb')) "
      ],
      "metadata": {
        "id": "vjczBg03GHBk"
      },
      "execution_count": 64,
      "outputs": []
    },
    {
      "cell_type": "code",
      "source": [
        "history_1"
      ],
      "metadata": {
        "colab": {
          "base_uri": "https://localhost:8080/"
        },
        "id": "b3rofVtDHDiA",
        "outputId": "b1527ab1-b0cb-4f89-e748-feade937b5b1"
      },
      "execution_count": 68,
      "outputs": [
        {
          "output_type": "execute_result",
          "data": {
            "text/plain": [
              "{'accuracy': [0.8980888724327087,\n",
              "  0.9861555695533752,\n",
              "  0.9980888962745667,\n",
              "  0.992377758026123,\n",
              "  0.9935555458068848,\n",
              "  0.9954666495323181,\n",
              "  0.9951333403587341],\n",
              " 'loss': [0.30811986327171326,\n",
              "  0.04579373821616173,\n",
              "  0.009186805225908756,\n",
              "  0.022256353870034218,\n",
              "  0.01966559700667858,\n",
              "  0.013119067065417767,\n",
              "  0.014335938729345798],\n",
              " 'val_accuracy': [0.9524000287055969,\n",
              "  0.9575999975204468,\n",
              "  0.9557999968528748,\n",
              "  0.9539999961853027,\n",
              "  0.9585999846458435,\n",
              "  0.9570000171661377,\n",
              "  0.9606000185012817],\n",
              " 'val_loss': [0.14067521691322327,\n",
              "  0.13900010287761688,\n",
              "  0.17227815091609955,\n",
              "  0.17885975539684296,\n",
              "  0.17143936455249786,\n",
              "  0.1790332943201065,\n",
              "  0.16975373029708862]}"
            ]
          },
          "metadata": {},
          "execution_count": 68
        }
      ]
    },
    {
      "cell_type": "code",
      "source": [
        "history_2"
      ],
      "metadata": {
        "colab": {
          "base_uri": "https://localhost:8080/"
        },
        "id": "jVzUFOJeHf1Y",
        "outputId": "41d06316-ce5d-4afc-eada-683a7300283a"
      },
      "execution_count": 74,
      "outputs": [
        {
          "output_type": "execute_result",
          "data": {
            "text/plain": [
              "{'accuracy': [0.899399995803833,\n",
              "  0.9758444428443909,\n",
              "  0.9894888997077942,\n",
              "  0.9933111071586609,\n",
              "  0.9945111274719238,\n",
              "  0.9940000176429749],\n",
              " 'loss': [0.2997707426548004,\n",
              "  0.07464822381734848,\n",
              "  0.033259354531764984,\n",
              "  0.022015061229467392,\n",
              "  0.01765119843184948,\n",
              "  0.017331905663013458],\n",
              " 'val_accuracy': [0.9490000009536743,\n",
              "  0.9553999900817871,\n",
              "  0.954800009727478,\n",
              "  0.9592000246047974,\n",
              "  0.9574000239372253,\n",
              "  0.9552000164985657],\n",
              " 'val_loss': [0.1428578943014145,\n",
              "  0.1459316909313202,\n",
              "  0.14629359543323517,\n",
              "  0.1587623655796051,\n",
              "  0.166935533285141,\n",
              "  0.1591896414756775]}"
            ]
          },
          "metadata": {},
          "execution_count": 74
        }
      ]
    },
    {
      "cell_type": "code",
      "source": [
        "import matplotlib.pyplot as plt\n",
        "import numpy as np\n",
        "\n",
        "plt.plot(np.arange(7), (history_1['accuracy']), label = 'accuracy')\n",
        "plt.plot(np.arange(7), (history_1['val_accuracy']), label = 'val_accuracy')\n",
        "# plt.plot(np.arange(7), (history_1['loss']), label = 'loss')\n",
        "# plt.plot(np.arange(7), (history_1['val_loss']), label = 'val_loss')\n",
        "\n",
        "plt.ylabel(\"Accuracy\")\n",
        "plt.xlabel(\"Epochs\")\n",
        "\n",
        "plt.title(\"Model 1: EfficientNet WITHOUT Data Augmentation\")\n",
        "plt.legend()"
      ],
      "metadata": {
        "colab": {
          "base_uri": "https://localhost:8080/",
          "height": 312
        },
        "id": "Pb--710vG1Pc",
        "outputId": "ac61e5df-4ce9-43f7-b747-3d8f86803a50"
      },
      "execution_count": 85,
      "outputs": [
        {
          "output_type": "execute_result",
          "data": {
            "text/plain": [
              "<matplotlib.legend.Legend at 0x7f396a687310>"
            ]
          },
          "metadata": {},
          "execution_count": 85
        },
        {
          "output_type": "display_data",
          "data": {
            "text/plain": [
              "<Figure size 432x288 with 1 Axes>"
            ],
            "image/png": "[encoded data removed]"
          },
          "metadata": {
            "needs_background": "light"
          }
        }
      ]
    },
    {
      "cell_type": "code",
      "source": [
        "plt.plot(np.arange(6), (history_2['accuracy']), label = 'accuracy')\n",
        "plt.plot(np.arange(6), (history_2['val_accuracy']), label = 'val_accuracy')\n",
        "# plt.plot(np.arange(6), (history_2['loss']), label = 'loss')\n",
        "# plt.plot(np.arange(6), (history_2['val_loss']), label = 'val_loss')\n",
        "\n",
        "plt.ylabel(\"Accuracy\")\n",
        "plt.xlabel(\"Epochs\")\n",
        "\n",
        "plt.title(\"Model 2: EfficientNet with Data Augmentation\")\n",
        "plt.legend()"
      ],
      "metadata": {
        "colab": {
          "base_uri": "https://localhost:8080/",
          "height": 312
        },
        "id": "zGZIxMb-HQq0",
        "outputId": "d1c10c27-f96c-4ed4-ca92-080479b0ccaf"
      },
      "execution_count": 86,
      "outputs": [
        {
          "output_type": "execute_result",
          "data": {
            "text/plain": [
              "<matplotlib.legend.Legend at 0x7f396a5a1bd0>"
            ]
          },
          "metadata": {},
          "execution_count": 86
        },
        {
          "output_type": "display_data",
          "data": {
            "text/plain": [
              "<Figure size 432x288 with 1 Axes>"
            ],
            "image/png": "[encoded data removed]"
          },
          "metadata": {
            "needs_background": "light"
          }
        }
      ]
    },
    {
      "cell_type": "code",
      "source": [
        "plt.plot(np.arange(10), (history_3['accuracy']), label = 'accuracy')\n",
        "plt.plot(np.arange(10), (history_3['val_accuracy']), label = 'val_accuracy')\n",
        "\n",
        "plt.ylabel(\"Accuracy\")\n",
        "plt.xlabel(\"Epochs\")\n",
        "\n",
        "plt.title(\"Model 3: ResNet50 with Data Augmentation\")\n",
        "plt.legend()"
      ],
      "metadata": {
        "colab": {
          "base_uri": "https://localhost:8080/",
          "height": 312
        },
        "id": "D6BwKqdzHnKp",
        "outputId": "b2cc9f05-969e-402e-8f8d-103c11385213"
      },
      "execution_count": 87,
      "outputs": [
        {
          "output_type": "execute_result",
          "data": {
            "text/plain": [
              "<matplotlib.legend.Legend at 0x7f396a5ee1d0>"
            ]
          },
          "metadata": {},
          "execution_count": 87
        },
        {
          "output_type": "display_data",
          "data": {
            "text/plain": [
              "<Figure size 432x288 with 1 Axes>"
            ],
            "image/png": "[encoded data removed]"
          },
          "metadata": {
            "needs_background": "light"
          }
        }
      ]
    },
    {
      "cell_type": "code",
      "source": [
        "plt.plot(np.arange(13), (history_4['accuracy']), label = 'accuracy')\n",
        "plt.plot(np.arange(13), (history_4['val_accuracy']), label = 'val_accuracy')\n",
        "\n",
        "plt.ylabel(\"Accuracy\")\n",
        "plt.xlabel(\"Epochs\")\n",
        "\n",
        "plt.title(\"Model 4: Xception with Data Augmentation\")\n",
        "plt.legend()"
      ],
      "metadata": {
        "colab": {
          "base_uri": "https://localhost:8080/",
          "height": 312
        },
        "id": "TPox5guVHwv5",
        "outputId": "abd08543-b0d8-44a1-ffcc-58299d39b69a"
      },
      "execution_count": 88,
      "outputs": [
        {
          "output_type": "execute_result",
          "data": {
            "text/plain": [
              "<matplotlib.legend.Legend at 0x7f3946441e10>"
            ]
          },
          "metadata": {},
          "execution_count": 88
        },
        {
          "output_type": "display_data",
          "data": {
            "text/plain": [
              "<Figure size 432x288 with 1 Axes>"
            ],
            "image/png": "[encoded data removed]"
          },
          "metadata": {
            "needs_background": "light"
          }
        }
      ]
    },
    {
      "cell_type": "markdown",
      "source": [
        "## Model 1\n",
        "\n",
        "The first model was an EfficientNet CNN with no data augmentation. It had a dropout layer of 0.5 and used the Nadam optimizer. It used softmax on its output later and trained with a patience of 5. \n",
        "\n",
        "This model had an accuracy of 0.957\n",
        "\n"
      ],
      "metadata": {
        "id": "d64RZ6Z7bpBi"
      }
    },
    {
      "cell_type": "markdown",
      "source": [
        "## Model 2\n",
        "\n",
        "My 2nd model used EfficentNet along with a data augmentation function. Other than the data augmentation function, it had the same parameters as model 1.\n",
        "\n",
        "This model had an accuracy of 0.958\n",
        "\n",
        "\n"
      ],
      "metadata": {
        "id": "Vmk5k4KMddfl"
      }
    },
    {
      "cell_type": "markdown",
      "source": [
        "## Model 3\n",
        "\n",
        "My 3rd model was an ResNet50 CNN with no data augmentation. It had a dropout layer of 0.5 and used the Nadam optimizer. It used softmax on its output later and trained with a patience of 5\n",
        "\n",
        "This model had an accuracy of 0.907.\n"
      ],
      "metadata": {
        "id": "gCpcRERVdfUA"
      }
    },
    {
      "cell_type": "markdown",
      "source": [
        "\n",
        "## Model 4\n",
        " \n",
        "My 4th model was an Xception CNN with no data augmentation. It had a dropout layer of 0.5 and used the Nadam optimizer. It used softmax on its output later and trained with a patience of 5\n",
        "\n",
        "This model had an accuracy of 0.388."
      ],
      "metadata": {
        "id": "FxMj_93bdgja"
      }
    },
    {
      "cell_type": "markdown",
      "source": [
        "## Conclusion\n",
        "\n",
        "The 4th model had a lot of problems and did not turn out very well, but the other three performed rather well. Though the first two models had very similiar accuracy, the 2nd model had the lowest loss and was less overfit than the first model, so it is probably my best model. "
      ],
      "metadata": {
        "id": "kw0DFM1zdh9c"
      }
    }
  ],
  "metadata": {
    "accelerator": "GPU",
    "colab": {
      "collapsed_sections": [],
      "name": "Homework_4.ipynb",
      "provenance": [],
      "toc_visible": true,
      "include_colab_link": true
    },
    "kernelspec": {
      "display_name": "Python 3",
      "name": "python3"
    }
  },
  "nbformat": 4,
  "nbformat_minor": 0
}